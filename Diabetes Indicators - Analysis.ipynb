{
 "cells": [
  {
   "cell_type": "markdown",
   "id": "f77accfd-4d93-4080-b73e-bfb23f3b89b2",
   "metadata": {},
   "source": [
    "# Diabetes Indicators Analysis\n",
    "Here you can find the description of all the tasks. Same info and more can be found on this Project [Page](https://final-project.super.site/)\n",
    "\n",
    "First review the project on this page and if you decide to work on this dataset follow the steps mentioned on above Project page"
   ]
  },
  {
   "cell_type": "markdown",
   "id": "002c3e9c-baa6-4804-86e6-1777aab23ae9",
   "metadata": {},
   "source": [
    "## The story Behind The Data\n",
    "Diabetes is one of the most prevalent chronic diseases in the US, impacting millions of Americans each year and exerting a significant financial burden on the economy. \n",
    "Diabetes is a serious chronic disease in which individuals lose the ability to effectively regulate levels of glucose in the blood, and can lead to reduced quality of life and life expectancy. \n",
    "After different foods are broken down into sugars during digestion, the sugars are then released into the bloodstream. \n",
    "This signals the pancreas to release insulin. Insulin helps enable cells within the body to use those sugars in the bloodstream for energy. \n",
    "Diabetes is generally characterised by either the body not making enough insulin or being unable to use the insulin that is made as effectively as needed."
   ]
  },
  {
   "cell_type": "code",
   "execution_count": 1,
   "id": "9dd44827-5408-413d-be52-7f168683804b",
   "metadata": {
    "executionTime": 2895,
    "lastSuccessfullyExecutedCode": "# Let's see how we can easily query the data\n# Start working here if you choose to use Python for this part of the project\n# Libraries\nimport numpy as np\nimport pandas as pd\nimport matplotlib.pyplot as plt\nimport seaborn as sns\nfrom scipy import stats"
   },
   "outputs": [],
   "source": [
    "# Libraries\n",
    "import numpy as np\n",
    "import pandas as pd\n",
    "import matplotlib.pyplot as plt\n",
    "import seaborn as sns\n",
    "from scipy import stats"
   ]
  },
  {
   "cell_type": "code",
   "execution_count": 64,
   "id": "ee8aa22b-0991-4cfc-801b-6291442e8102",
   "metadata": {
    "executionTime": 252,
    "lastSuccessfullyExecutedCode": "# Let's load and see some values\ndemographic_df = pd.read_csv(\"demographic_data.csv\")\nenriched_df = pd.read_csv(\"enriched_data.csv\")\nhealth_measures_df = pd.read_csv(\"health_measures.csv\")\nid_label_df = pd.read_csv(\"id_label.csv\")"
   },
   "outputs": [],
   "source": [
    "# Let's load and see some values\n",
    "demographic_df = pd.read_csv(\"demographic_data.csv\")\n",
    "enriched_df = pd.read_csv(\"enriched_data.csv\")\n",
    "health_measures_df = pd.read_csv(\"health_measures.csv\")\n",
    "id_label_df = pd.read_csv(\"id_label.csv\")"
   ]
  },
  {
   "cell_type": "code",
   "execution_count": 65,
   "id": "5aed10e2-a879-4765-9e78-6ab2ee062916",
   "metadata": {
    "executionTime": 120,
    "lastSuccessfullyExecutedCode": "# Merging the datasets on uniqueID\ndf = pd.merge(demographic_df, enriched_df, on='uniqueID')\ndf = pd.merge(df, health_measures_df, on='uniqueID')\ndf = pd.merge(df, id_label_df, on='uniqueID')"
   },
   "outputs": [],
   "source": [
    "# Merging the datasets on uniqueID\n",
    "df = pd.merge(demographic_df, enriched_df, on='uniqueID')\n",
    "df = pd.merge(df, health_measures_df, on='uniqueID')\n",
    "df = pd.merge(df, id_label_df, on='uniqueID')"
   ]
  },
  {
   "cell_type": "code",
   "execution_count": 66,
   "id": "a8c6f2d6-a830-420b-ac1e-8fdabe0e898a",
   "metadata": {
    "executionTime": 137,
    "lastSuccessfullyExecutedCode": "# Making sure it worked\ndf.head()"
   },
   "outputs": [
    {
     "data": {
      "application/com.datacamp.data-table.v1+json": {
       "table": {
        "data": [
         {
          "Age": 9,
          "AnyHealthcare": 1,
          "BMI": 40,
          "CholCheck": 1,
          "Diabetes_binary": 0,
          "DiffWalk": 1,
          "Education": 4,
          "Fruits": 0,
          "GenHlth": 5,
          "HeartDiseaseorAttack": 0,
          "HighBP": 1,
          "HighChol": 1,
          "HvyAlcoholConsump": 0,
          "Income": 3,
          "MentHlth": 18,
          "NoDocbcCost": 0,
          "PhysActivity": 0,
          "PhysHlth": 15,
          "Sex": 0,
          "Smoker": 1,
          "Stroke": 0,
          "Veggies": 1,
          "index": 0,
          "uniqueID": 0
         },
         {
          "Age": 7,
          "AnyHealthcare": 0,
          "BMI": 25,
          "CholCheck": 0,
          "Diabetes_binary": 0,
          "DiffWalk": 0,
          "Education": 6,
          "Fruits": 0,
          "GenHlth": 3,
          "HeartDiseaseorAttack": 0,
          "HighBP": 0,
          "HighChol": 0,
          "HvyAlcoholConsump": 0,
          "Income": 1,
          "MentHlth": 0,
          "NoDocbcCost": 1,
          "PhysActivity": 1,
          "PhysHlth": 0,
          "Sex": 0,
          "Smoker": 1,
          "Stroke": 0,
          "Veggies": 0,
          "index": 1,
          "uniqueID": 1
         },
         {
          "Age": 9,
          "AnyHealthcare": 1,
          "BMI": 28,
          "CholCheck": 1,
          "Diabetes_binary": 0,
          "DiffWalk": 1,
          "Education": 4,
          "Fruits": 1,
          "GenHlth": 5,
          "HeartDiseaseorAttack": 0,
          "HighBP": 1,
          "HighChol": 1,
          "HvyAlcoholConsump": 0,
          "Income": 8,
          "MentHlth": 30,
          "NoDocbcCost": 1,
          "PhysActivity": 0,
          "PhysHlth": 30,
          "Sex": 0,
          "Smoker": 0,
          "Stroke": 0,
          "Veggies": 0,
          "index": 2,
          "uniqueID": 2
         },
         {
          "Age": 11,
          "AnyHealthcare": 1,
          "BMI": 27,
          "CholCheck": 1,
          "Diabetes_binary": 0,
          "DiffWalk": 0,
          "Education": 3,
          "Fruits": 1,
          "GenHlth": 2,
          "HeartDiseaseorAttack": 0,
          "HighBP": 1,
          "HighChol": 0,
          "HvyAlcoholConsump": 0,
          "Income": 6,
          "MentHlth": 0,
          "NoDocbcCost": 0,
          "PhysActivity": 1,
          "PhysHlth": 0,
          "Sex": 0,
          "Smoker": 0,
          "Stroke": 0,
          "Veggies": 1,
          "index": 3,
          "uniqueID": 3
         },
         {
          "Age": 11,
          "AnyHealthcare": 1,
          "BMI": 24,
          "CholCheck": 1,
          "Diabetes_binary": 0,
          "DiffWalk": 0,
          "Education": 5,
          "Fruits": 1,
          "GenHlth": 2,
          "HeartDiseaseorAttack": 0,
          "HighBP": 1,
          "HighChol": 1,
          "HvyAlcoholConsump": 0,
          "Income": 4,
          "MentHlth": 3,
          "NoDocbcCost": 0,
          "PhysActivity": 1,
          "PhysHlth": 0,
          "Sex": 0,
          "Smoker": 0,
          "Stroke": 0,
          "Veggies": 1,
          "index": 4,
          "uniqueID": 4
         }
        ],
        "schema": {
         "fields": [
          {
           "name": "index",
           "type": "integer"
          },
          {
           "name": "uniqueID",
           "type": "integer"
          },
          {
           "name": "Sex",
           "type": "integer"
          },
          {
           "name": "Age",
           "type": "integer"
          },
          {
           "name": "Education",
           "type": "integer"
          },
          {
           "name": "Income",
           "type": "integer"
          },
          {
           "name": "PhysHlth",
           "type": "integer"
          },
          {
           "name": "Smoker",
           "type": "integer"
          },
          {
           "name": "HeartDiseaseorAttack",
           "type": "integer"
          },
          {
           "name": "BMI",
           "type": "integer"
          },
          {
           "name": "DiffWalk",
           "type": "integer"
          },
          {
           "name": "GenHlth",
           "type": "integer"
          },
          {
           "name": "HighBP",
           "type": "integer"
          },
          {
           "name": "HighChol",
           "type": "integer"
          },
          {
           "name": "CholCheck",
           "type": "integer"
          },
          {
           "name": "MentHlth",
           "type": "integer"
          },
          {
           "name": "Veggies",
           "type": "integer"
          },
          {
           "name": "Stroke",
           "type": "integer"
          },
          {
           "name": "Fruits",
           "type": "integer"
          },
          {
           "name": "PhysActivity",
           "type": "integer"
          },
          {
           "name": "HvyAlcoholConsump",
           "type": "integer"
          },
          {
           "name": "NoDocbcCost",
           "type": "integer"
          },
          {
           "name": "AnyHealthcare",
           "type": "integer"
          },
          {
           "name": "Diabetes_binary",
           "type": "number"
          }
         ],
         "pandas_version": "1.4.0",
         "primaryKey": [
          "index"
         ]
        }
       },
       "total_rows": 5,
       "truncation_type": null
      },
      "text/html": [
       "<div>\n",
       "<style scoped>\n",
       "    .dataframe tbody tr th:only-of-type {\n",
       "        vertical-align: middle;\n",
       "    }\n",
       "\n",
       "    .dataframe tbody tr th {\n",
       "        vertical-align: top;\n",
       "    }\n",
       "\n",
       "    .dataframe thead th {\n",
       "        text-align: right;\n",
       "    }\n",
       "</style>\n",
       "<table border=\"1\" class=\"dataframe\">\n",
       "  <thead>\n",
       "    <tr style=\"text-align: right;\">\n",
       "      <th></th>\n",
       "      <th>uniqueID</th>\n",
       "      <th>Sex</th>\n",
       "      <th>Age</th>\n",
       "      <th>Education</th>\n",
       "      <th>Income</th>\n",
       "      <th>PhysHlth</th>\n",
       "      <th>Smoker</th>\n",
       "      <th>HeartDiseaseorAttack</th>\n",
       "      <th>BMI</th>\n",
       "      <th>DiffWalk</th>\n",
       "      <th>GenHlth</th>\n",
       "      <th>HighBP</th>\n",
       "      <th>HighChol</th>\n",
       "      <th>CholCheck</th>\n",
       "      <th>MentHlth</th>\n",
       "      <th>Veggies</th>\n",
       "      <th>Stroke</th>\n",
       "      <th>Fruits</th>\n",
       "      <th>PhysActivity</th>\n",
       "      <th>HvyAlcoholConsump</th>\n",
       "      <th>NoDocbcCost</th>\n",
       "      <th>AnyHealthcare</th>\n",
       "      <th>Diabetes_binary</th>\n",
       "    </tr>\n",
       "  </thead>\n",
       "  <tbody>\n",
       "    <tr>\n",
       "      <th>0</th>\n",
       "      <td>0</td>\n",
       "      <td>0</td>\n",
       "      <td>9</td>\n",
       "      <td>4</td>\n",
       "      <td>3</td>\n",
       "      <td>15</td>\n",
       "      <td>1</td>\n",
       "      <td>0</td>\n",
       "      <td>40</td>\n",
       "      <td>1</td>\n",
       "      <td>5</td>\n",
       "      <td>1</td>\n",
       "      <td>1</td>\n",
       "      <td>1</td>\n",
       "      <td>18</td>\n",
       "      <td>1</td>\n",
       "      <td>0</td>\n",
       "      <td>0</td>\n",
       "      <td>0</td>\n",
       "      <td>0</td>\n",
       "      <td>0</td>\n",
       "      <td>1</td>\n",
       "      <td>0.0</td>\n",
       "    </tr>\n",
       "    <tr>\n",
       "      <th>1</th>\n",
       "      <td>1</td>\n",
       "      <td>0</td>\n",
       "      <td>7</td>\n",
       "      <td>6</td>\n",
       "      <td>1</td>\n",
       "      <td>0</td>\n",
       "      <td>1</td>\n",
       "      <td>0</td>\n",
       "      <td>25</td>\n",
       "      <td>0</td>\n",
       "      <td>3</td>\n",
       "      <td>0</td>\n",
       "      <td>0</td>\n",
       "      <td>0</td>\n",
       "      <td>0</td>\n",
       "      <td>0</td>\n",
       "      <td>0</td>\n",
       "      <td>0</td>\n",
       "      <td>1</td>\n",
       "      <td>0</td>\n",
       "      <td>1</td>\n",
       "      <td>0</td>\n",
       "      <td>0.0</td>\n",
       "    </tr>\n",
       "    <tr>\n",
       "      <th>2</th>\n",
       "      <td>2</td>\n",
       "      <td>0</td>\n",
       "      <td>9</td>\n",
       "      <td>4</td>\n",
       "      <td>8</td>\n",
       "      <td>30</td>\n",
       "      <td>0</td>\n",
       "      <td>0</td>\n",
       "      <td>28</td>\n",
       "      <td>1</td>\n",
       "      <td>5</td>\n",
       "      <td>1</td>\n",
       "      <td>1</td>\n",
       "      <td>1</td>\n",
       "      <td>30</td>\n",
       "      <td>0</td>\n",
       "      <td>0</td>\n",
       "      <td>1</td>\n",
       "      <td>0</td>\n",
       "      <td>0</td>\n",
       "      <td>1</td>\n",
       "      <td>1</td>\n",
       "      <td>0.0</td>\n",
       "    </tr>\n",
       "    <tr>\n",
       "      <th>3</th>\n",
       "      <td>3</td>\n",
       "      <td>0</td>\n",
       "      <td>11</td>\n",
       "      <td>3</td>\n",
       "      <td>6</td>\n",
       "      <td>0</td>\n",
       "      <td>0</td>\n",
       "      <td>0</td>\n",
       "      <td>27</td>\n",
       "      <td>0</td>\n",
       "      <td>2</td>\n",
       "      <td>1</td>\n",
       "      <td>0</td>\n",
       "      <td>1</td>\n",
       "      <td>0</td>\n",
       "      <td>1</td>\n",
       "      <td>0</td>\n",
       "      <td>1</td>\n",
       "      <td>1</td>\n",
       "      <td>0</td>\n",
       "      <td>0</td>\n",
       "      <td>1</td>\n",
       "      <td>0.0</td>\n",
       "    </tr>\n",
       "    <tr>\n",
       "      <th>4</th>\n",
       "      <td>4</td>\n",
       "      <td>0</td>\n",
       "      <td>11</td>\n",
       "      <td>5</td>\n",
       "      <td>4</td>\n",
       "      <td>0</td>\n",
       "      <td>0</td>\n",
       "      <td>0</td>\n",
       "      <td>24</td>\n",
       "      <td>0</td>\n",
       "      <td>2</td>\n",
       "      <td>1</td>\n",
       "      <td>1</td>\n",
       "      <td>1</td>\n",
       "      <td>3</td>\n",
       "      <td>1</td>\n",
       "      <td>0</td>\n",
       "      <td>1</td>\n",
       "      <td>1</td>\n",
       "      <td>0</td>\n",
       "      <td>0</td>\n",
       "      <td>1</td>\n",
       "      <td>0.0</td>\n",
       "    </tr>\n",
       "  </tbody>\n",
       "</table>\n",
       "</div>"
      ],
      "text/plain": [
       "   uniqueID  Sex  Age  ...  NoDocbcCost  AnyHealthcare  Diabetes_binary\n",
       "0         0    0    9  ...            0              1              0.0\n",
       "1         1    0    7  ...            1              0              0.0\n",
       "2         2    0    9  ...            1              1              0.0\n",
       "3         3    0   11  ...            0              1              0.0\n",
       "4         4    0   11  ...            0              1              0.0\n",
       "\n",
       "[5 rows x 23 columns]"
      ]
     },
     "execution_count": 66,
     "metadata": {},
     "output_type": "execute_result"
    }
   ],
   "source": [
    "# Making sure it worked\n",
    "df.head()"
   ]
  },
  {
   "cell_type": "code",
   "execution_count": 9,
   "id": "30179c42-a8ad-4209-83ff-8894a09dc9b2",
   "metadata": {
    "executionTime": 30,
    "lastSuccessfullyExecutedCode": "df.shape"
   },
   "outputs": [
    {
     "data": {
      "text/plain": [
       "(253680, 23)"
      ]
     },
     "execution_count": 9,
     "metadata": {},
     "output_type": "execute_result"
    }
   ],
   "source": [
    "df.shape"
   ]
  },
  {
   "cell_type": "code",
   "execution_count": 10,
   "id": "c549c428-32c1-469f-bcb6-713f8142b01d",
   "metadata": {
    "executionTime": 75,
    "lastSuccessfullyExecutedCode": "df.tail()"
   },
   "outputs": [
    {
     "data": {
      "application/com.datacamp.data-table.v1+json": {
       "table": {
        "data": [
         {
          "Age": 5,
          "AnyHealthcare": 1,
          "BMI": 45,
          "CholCheck": 1,
          "Diabetes_binary": 0,
          "DiffWalk": 0,
          "Education": 6,
          "Fruits": 1,
          "GenHlth": 3,
          "HeartDiseaseorAttack": 0,
          "HighBP": 1,
          "HighChol": 1,
          "HvyAlcoholConsump": 0,
          "Income": 7,
          "MentHlth": 0,
          "NoDocbcCost": 0,
          "PhysActivity": 0,
          "PhysHlth": 5,
          "Sex": 1,
          "Smoker": 0,
          "Stroke": 0,
          "Veggies": 1,
          "index": 253675,
          "uniqueID": 253675
         },
         {
          "Age": 11,
          "AnyHealthcare": 1,
          "BMI": 18,
          "CholCheck": 1,
          "Diabetes_binary": 1,
          "DiffWalk": 1,
          "Education": 2,
          "Fruits": 0,
          "GenHlth": 4,
          "HeartDiseaseorAttack": 0,
          "HighBP": 1,
          "HighChol": 1,
          "HvyAlcoholConsump": 0,
          "Income": 4,
          "MentHlth": 0,
          "NoDocbcCost": 0,
          "PhysActivity": 0,
          "PhysHlth": 0,
          "Sex": 0,
          "Smoker": 0,
          "Stroke": 0,
          "Veggies": 0,
          "index": 253676,
          "uniqueID": 253676
         },
         {
          "Age": 2,
          "AnyHealthcare": 1,
          "BMI": 28,
          "CholCheck": 1,
          "Diabetes_binary": 0,
          "DiffWalk": 0,
          "Education": 5,
          "Fruits": 1,
          "GenHlth": 1,
          "HeartDiseaseorAttack": 0,
          "HighBP": 0,
          "HighChol": 0,
          "HvyAlcoholConsump": 0,
          "Income": 2,
          "MentHlth": 0,
          "NoDocbcCost": 0,
          "PhysActivity": 1,
          "PhysHlth": 0,
          "Sex": 0,
          "Smoker": 0,
          "Stroke": 0,
          "Veggies": 0,
          "index": 253677,
          "uniqueID": 253677
         },
         {
          "Age": 7,
          "AnyHealthcare": 1,
          "BMI": 23,
          "CholCheck": 1,
          "Diabetes_binary": 0,
          "DiffWalk": 0,
          "Education": 5,
          "Fruits": 1,
          "GenHlth": 3,
          "HeartDiseaseorAttack": 0,
          "HighBP": 1,
          "HighChol": 0,
          "HvyAlcoholConsump": 0,
          "Income": 1,
          "MentHlth": 0,
          "NoDocbcCost": 0,
          "PhysActivity": 0,
          "PhysHlth": 0,
          "Sex": 1,
          "Smoker": 0,
          "Stroke": 0,
          "Veggies": 1,
          "index": 253678,
          "uniqueID": 253678
         },
         {
          "Age": 9,
          "AnyHealthcare": 1,
          "BMI": 25,
          "CholCheck": 1,
          "Diabetes_binary": 1,
          "DiffWalk": 0,
          "Education": 6,
          "Fruits": 1,
          "GenHlth": 2,
          "HeartDiseaseorAttack": 1,
          "HighBP": 1,
          "HighChol": 1,
          "HvyAlcoholConsump": 0,
          "Income": 2,
          "MentHlth": 0,
          "NoDocbcCost": 0,
          "PhysActivity": 1,
          "PhysHlth": 0,
          "Sex": 0,
          "Smoker": 0,
          "Stroke": 0,
          "Veggies": 0,
          "index": 253679,
          "uniqueID": 253679
         }
        ],
        "schema": {
         "fields": [
          {
           "name": "index",
           "type": "integer"
          },
          {
           "name": "uniqueID",
           "type": "integer"
          },
          {
           "name": "Sex",
           "type": "integer"
          },
          {
           "name": "Age",
           "type": "integer"
          },
          {
           "name": "Education",
           "type": "integer"
          },
          {
           "name": "Income",
           "type": "integer"
          },
          {
           "name": "PhysHlth",
           "type": "integer"
          },
          {
           "name": "Smoker",
           "type": "integer"
          },
          {
           "name": "HeartDiseaseorAttack",
           "type": "integer"
          },
          {
           "name": "BMI",
           "type": "integer"
          },
          {
           "name": "DiffWalk",
           "type": "integer"
          },
          {
           "name": "GenHlth",
           "type": "integer"
          },
          {
           "name": "HighBP",
           "type": "integer"
          },
          {
           "name": "HighChol",
           "type": "integer"
          },
          {
           "name": "CholCheck",
           "type": "integer"
          },
          {
           "name": "MentHlth",
           "type": "integer"
          },
          {
           "name": "Veggies",
           "type": "integer"
          },
          {
           "name": "Stroke",
           "type": "integer"
          },
          {
           "name": "Fruits",
           "type": "integer"
          },
          {
           "name": "PhysActivity",
           "type": "integer"
          },
          {
           "name": "HvyAlcoholConsump",
           "type": "integer"
          },
          {
           "name": "NoDocbcCost",
           "type": "integer"
          },
          {
           "name": "AnyHealthcare",
           "type": "integer"
          },
          {
           "name": "Diabetes_binary",
           "type": "number"
          }
         ],
         "pandas_version": "1.4.0",
         "primaryKey": [
          "index"
         ]
        }
       },
       "total_rows": 5,
       "truncation_type": null
      },
      "text/html": [
       "<div>\n",
       "<style scoped>\n",
       "    .dataframe tbody tr th:only-of-type {\n",
       "        vertical-align: middle;\n",
       "    }\n",
       "\n",
       "    .dataframe tbody tr th {\n",
       "        vertical-align: top;\n",
       "    }\n",
       "\n",
       "    .dataframe thead th {\n",
       "        text-align: right;\n",
       "    }\n",
       "</style>\n",
       "<table border=\"1\" class=\"dataframe\">\n",
       "  <thead>\n",
       "    <tr style=\"text-align: right;\">\n",
       "      <th></th>\n",
       "      <th>uniqueID</th>\n",
       "      <th>Sex</th>\n",
       "      <th>Age</th>\n",
       "      <th>Education</th>\n",
       "      <th>Income</th>\n",
       "      <th>PhysHlth</th>\n",
       "      <th>Smoker</th>\n",
       "      <th>HeartDiseaseorAttack</th>\n",
       "      <th>BMI</th>\n",
       "      <th>DiffWalk</th>\n",
       "      <th>GenHlth</th>\n",
       "      <th>HighBP</th>\n",
       "      <th>HighChol</th>\n",
       "      <th>CholCheck</th>\n",
       "      <th>MentHlth</th>\n",
       "      <th>Veggies</th>\n",
       "      <th>Stroke</th>\n",
       "      <th>Fruits</th>\n",
       "      <th>PhysActivity</th>\n",
       "      <th>HvyAlcoholConsump</th>\n",
       "      <th>NoDocbcCost</th>\n",
       "      <th>AnyHealthcare</th>\n",
       "      <th>Diabetes_binary</th>\n",
       "    </tr>\n",
       "  </thead>\n",
       "  <tbody>\n",
       "    <tr>\n",
       "      <th>253675</th>\n",
       "      <td>253675</td>\n",
       "      <td>1</td>\n",
       "      <td>5</td>\n",
       "      <td>6</td>\n",
       "      <td>7</td>\n",
       "      <td>5</td>\n",
       "      <td>0</td>\n",
       "      <td>0</td>\n",
       "      <td>45</td>\n",
       "      <td>0</td>\n",
       "      <td>3</td>\n",
       "      <td>1</td>\n",
       "      <td>1</td>\n",
       "      <td>1</td>\n",
       "      <td>0</td>\n",
       "      <td>1</td>\n",
       "      <td>0</td>\n",
       "      <td>1</td>\n",
       "      <td>0</td>\n",
       "      <td>0</td>\n",
       "      <td>0</td>\n",
       "      <td>1</td>\n",
       "      <td>0.0</td>\n",
       "    </tr>\n",
       "    <tr>\n",
       "      <th>253676</th>\n",
       "      <td>253676</td>\n",
       "      <td>0</td>\n",
       "      <td>11</td>\n",
       "      <td>2</td>\n",
       "      <td>4</td>\n",
       "      <td>0</td>\n",
       "      <td>0</td>\n",
       "      <td>0</td>\n",
       "      <td>18</td>\n",
       "      <td>1</td>\n",
       "      <td>4</td>\n",
       "      <td>1</td>\n",
       "      <td>1</td>\n",
       "      <td>1</td>\n",
       "      <td>0</td>\n",
       "      <td>0</td>\n",
       "      <td>0</td>\n",
       "      <td>0</td>\n",
       "      <td>0</td>\n",
       "      <td>0</td>\n",
       "      <td>0</td>\n",
       "      <td>1</td>\n",
       "      <td>1.0</td>\n",
       "    </tr>\n",
       "    <tr>\n",
       "      <th>253677</th>\n",
       "      <td>253677</td>\n",
       "      <td>0</td>\n",
       "      <td>2</td>\n",
       "      <td>5</td>\n",
       "      <td>2</td>\n",
       "      <td>0</td>\n",
       "      <td>0</td>\n",
       "      <td>0</td>\n",
       "      <td>28</td>\n",
       "      <td>0</td>\n",
       "      <td>1</td>\n",
       "      <td>0</td>\n",
       "      <td>0</td>\n",
       "      <td>1</td>\n",
       "      <td>0</td>\n",
       "      <td>0</td>\n",
       "      <td>0</td>\n",
       "      <td>1</td>\n",
       "      <td>1</td>\n",
       "      <td>0</td>\n",
       "      <td>0</td>\n",
       "      <td>1</td>\n",
       "      <td>0.0</td>\n",
       "    </tr>\n",
       "    <tr>\n",
       "      <th>253678</th>\n",
       "      <td>253678</td>\n",
       "      <td>1</td>\n",
       "      <td>7</td>\n",
       "      <td>5</td>\n",
       "      <td>1</td>\n",
       "      <td>0</td>\n",
       "      <td>0</td>\n",
       "      <td>0</td>\n",
       "      <td>23</td>\n",
       "      <td>0</td>\n",
       "      <td>3</td>\n",
       "      <td>1</td>\n",
       "      <td>0</td>\n",
       "      <td>1</td>\n",
       "      <td>0</td>\n",
       "      <td>1</td>\n",
       "      <td>0</td>\n",
       "      <td>1</td>\n",
       "      <td>0</td>\n",
       "      <td>0</td>\n",
       "      <td>0</td>\n",
       "      <td>1</td>\n",
       "      <td>0.0</td>\n",
       "    </tr>\n",
       "    <tr>\n",
       "      <th>253679</th>\n",
       "      <td>253679</td>\n",
       "      <td>0</td>\n",
       "      <td>9</td>\n",
       "      <td>6</td>\n",
       "      <td>2</td>\n",
       "      <td>0</td>\n",
       "      <td>0</td>\n",
       "      <td>1</td>\n",
       "      <td>25</td>\n",
       "      <td>0</td>\n",
       "      <td>2</td>\n",
       "      <td>1</td>\n",
       "      <td>1</td>\n",
       "      <td>1</td>\n",
       "      <td>0</td>\n",
       "      <td>0</td>\n",
       "      <td>0</td>\n",
       "      <td>1</td>\n",
       "      <td>1</td>\n",
       "      <td>0</td>\n",
       "      <td>0</td>\n",
       "      <td>1</td>\n",
       "      <td>1.0</td>\n",
       "    </tr>\n",
       "  </tbody>\n",
       "</table>\n",
       "</div>"
      ],
      "text/plain": [
       "        uniqueID  Sex  Age  ...  NoDocbcCost  AnyHealthcare  Diabetes_binary\n",
       "253675    253675    1    5  ...            0              1              0.0\n",
       "253676    253676    0   11  ...            0              1              1.0\n",
       "253677    253677    0    2  ...            0              1              0.0\n",
       "253678    253678    1    7  ...            0              1              0.0\n",
       "253679    253679    0    9  ...            0              1              1.0\n",
       "\n",
       "[5 rows x 23 columns]"
      ]
     },
     "execution_count": 10,
     "metadata": {},
     "output_type": "execute_result"
    }
   ],
   "source": [
    "df.tail()"
   ]
  },
  {
   "cell_type": "code",
   "execution_count": 11,
   "id": "8d3b8eab-2ba2-49cd-8ed9-903b82a980af",
   "metadata": {
    "executionTime": 27,
    "lastSuccessfullyExecutedCode": "df.columns"
   },
   "outputs": [
    {
     "data": {
      "text/plain": [
       "Index(['uniqueID', 'Sex', 'Age', 'Education', 'Income', 'PhysHlth', 'Smoker',\n",
       "       'HeartDiseaseorAttack', 'BMI', 'DiffWalk', 'GenHlth', 'HighBP',\n",
       "       'HighChol', 'CholCheck', 'MentHlth', 'Veggies', 'Stroke', 'Fruits',\n",
       "       'PhysActivity', 'HvyAlcoholConsump', 'NoDocbcCost', 'AnyHealthcare',\n",
       "       'Diabetes_binary'],\n",
       "      dtype='object')"
      ]
     },
     "execution_count": 11,
     "metadata": {},
     "output_type": "execute_result"
    }
   ],
   "source": [
    "df.columns"
   ]
  },
  {
   "cell_type": "code",
   "execution_count": 12,
   "id": "0a3ff0e2-87e8-47d0-875f-953da332561e",
   "metadata": {
    "executionTime": 34,
    "lastSuccessfullyExecutedCode": "df.info()"
   },
   "outputs": [
    {
     "name": "stdout",
     "output_type": "stream",
     "text": [
      "<class 'pandas.core.frame.DataFrame'>\n",
      "Int64Index: 253680 entries, 0 to 253679\n",
      "Data columns (total 23 columns):\n",
      " #   Column                Non-Null Count   Dtype  \n",
      "---  ------                --------------   -----  \n",
      " 0   uniqueID              253680 non-null  int64  \n",
      " 1   Sex                   253680 non-null  int64  \n",
      " 2   Age                   253680 non-null  int64  \n",
      " 3   Education             253680 non-null  int64  \n",
      " 4   Income                253680 non-null  int64  \n",
      " 5   PhysHlth              253680 non-null  int64  \n",
      " 6   Smoker                253680 non-null  int64  \n",
      " 7   HeartDiseaseorAttack  253680 non-null  int64  \n",
      " 8   BMI                   253680 non-null  int64  \n",
      " 9   DiffWalk              253680 non-null  int64  \n",
      " 10  GenHlth               253680 non-null  int64  \n",
      " 11  HighBP                253680 non-null  int64  \n",
      " 12  HighChol              253680 non-null  int64  \n",
      " 13  CholCheck             253680 non-null  int64  \n",
      " 14  MentHlth              253680 non-null  int64  \n",
      " 15  Veggies               253680 non-null  int64  \n",
      " 16  Stroke                253680 non-null  int64  \n",
      " 17  Fruits                253680 non-null  int64  \n",
      " 18  PhysActivity          253680 non-null  int64  \n",
      " 19  HvyAlcoholConsump     253680 non-null  int64  \n",
      " 20  NoDocbcCost           253680 non-null  int64  \n",
      " 21  AnyHealthcare         253680 non-null  int64  \n",
      " 22  Diabetes_binary       253680 non-null  float64\n",
      "dtypes: float64(1), int64(22)\n",
      "memory usage: 46.5 MB\n"
     ]
    }
   ],
   "source": [
    "df.info()"
   ]
  },
  {
   "cell_type": "code",
   "execution_count": 13,
   "id": "6ac9ddcc-b50e-4a9b-9365-773c4e33268b",
   "metadata": {
    "executionTime": 44,
    "lastSuccessfullyExecutedCode": "df.isna().sum()"
   },
   "outputs": [
    {
     "data": {
      "text/plain": [
       "uniqueID                0\n",
       "Sex                     0\n",
       "Age                     0\n",
       "Education               0\n",
       "Income                  0\n",
       "PhysHlth                0\n",
       "Smoker                  0\n",
       "HeartDiseaseorAttack    0\n",
       "BMI                     0\n",
       "DiffWalk                0\n",
       "GenHlth                 0\n",
       "HighBP                  0\n",
       "HighChol                0\n",
       "CholCheck               0\n",
       "MentHlth                0\n",
       "Veggies                 0\n",
       "Stroke                  0\n",
       "Fruits                  0\n",
       "PhysActivity            0\n",
       "HvyAlcoholConsump       0\n",
       "NoDocbcCost             0\n",
       "AnyHealthcare           0\n",
       "Diabetes_binary         0\n",
       "dtype: int64"
      ]
     },
     "execution_count": 13,
     "metadata": {},
     "output_type": "execute_result"
    }
   ],
   "source": [
    "df.isna().sum()"
   ]
  },
  {
   "cell_type": "code",
   "execution_count": 14,
   "id": "729060c3-49d3-4d3d-84c2-773d803b5951",
   "metadata": {
    "executionTime": 70,
    "lastSuccessfullyExecutedCode": "df.duplicated().sum()"
   },
   "outputs": [
    {
     "data": {
      "text/plain": [
       "0"
      ]
     },
     "execution_count": 14,
     "metadata": {},
     "output_type": "execute_result"
    }
   ],
   "source": [
    "df.duplicated().sum()"
   ]
  },
  {
   "cell_type": "code",
   "execution_count": 15,
   "id": "9ea73768-ccd1-4ce4-b689-3268779107ea",
   "metadata": {
    "executionTime": 37,
    "lastSuccessfullyExecutedCode": "for i in df.columns:\n    print(f'{i} contains {df[i].nunique()} unique values')"
   },
   "outputs": [
    {
     "name": "stdout",
     "output_type": "stream",
     "text": [
      "uniqueID contains 253680 unique values\n",
      "Sex contains 2 unique values\n",
      "Age contains 13 unique values\n",
      "Education contains 6 unique values\n",
      "Income contains 8 unique values\n",
      "PhysHlth contains 31 unique values\n",
      "Smoker contains 2 unique values\n",
      "HeartDiseaseorAttack contains 2 unique values\n",
      "BMI contains 84 unique values\n",
      "DiffWalk contains 2 unique values\n",
      "GenHlth contains 5 unique values\n",
      "HighBP contains 2 unique values\n",
      "HighChol contains 2 unique values\n",
      "CholCheck contains 2 unique values\n",
      "MentHlth contains 31 unique values\n",
      "Veggies contains 2 unique values\n",
      "Stroke contains 2 unique values\n",
      "Fruits contains 2 unique values\n",
      "PhysActivity contains 2 unique values\n",
      "HvyAlcoholConsump contains 2 unique values\n",
      "NoDocbcCost contains 2 unique values\n",
      "AnyHealthcare contains 2 unique values\n",
      "Diabetes_binary contains 2 unique values\n"
     ]
    }
   ],
   "source": [
    "for i in df.columns:\n",
    "    print(f'{i} contains {df[i].nunique()} unique values')"
   ]
  },
  {
   "cell_type": "code",
   "execution_count": 16,
   "id": "60dae2e0-5bcf-422e-8951-7d7876e9f6cf",
   "metadata": {
    "executionTime": 315,
    "lastSuccessfullyExecutedCode": "df.describe()"
   },
   "outputs": [
    {
     "data": {
      "application/com.datacamp.data-table.v1+json": {
       "table": {
        "data": [
         {
          "Age": 253680,
          "AnyHealthcare": 253680,
          "BMI": 253680,
          "CholCheck": 253680,
          "Diabetes_binary": 253680,
          "DiffWalk": 253680,
          "Education": 253680,
          "Fruits": 253680,
          "GenHlth": 253680,
          "HeartDiseaseorAttack": 253680,
          "HighBP": 253680,
          "HighChol": 253680,
          "HvyAlcoholConsump": 253680,
          "Income": 253680,
          "MentHlth": 253680,
          "NoDocbcCost": 253680,
          "PhysActivity": 253680,
          "PhysHlth": 253680,
          "Sex": 253680,
          "Smoker": 253680,
          "Stroke": 253680,
          "Veggies": 253680,
          "index": "count",
          "uniqueID": 253680
         },
         {
          "Age": 8.0321192053,
          "AnyHealthcare": 0.9510525071,
          "BMI": 28.3823636077,
          "CholCheck": 0.9626695049,
          "Diabetes_binary": 0.139333018,
          "DiffWalk": 0.1682237465,
          "Education": 5.0504336172,
          "Fruits": 0.6342557553,
          "GenHlth": 2.5113923053,
          "HeartDiseaseorAttack": 0.0941855881,
          "HighBP": 0.4290011038,
          "HighChol": 0.4241209398,
          "HvyAlcoholConsump": 0.0561967833,
          "Income": 6.0538749606,
          "MentHlth": 3.1847721539,
          "NoDocbcCost": 0.0841769158,
          "PhysActivity": 0.7565436771,
          "PhysHlth": 4.242080574,
          "Sex": 0.4403421634,
          "Smoker": 0.4431685588,
          "Stroke": 0.0405707979,
          "Veggies": 0.8114198991,
          "index": "mean",
          "uniqueID": 126839.5
         },
         {
          "Age": 3.0542204342,
          "AnyHealthcare": 0.2157587063,
          "BMI": 6.6086942014,
          "CholCheck": 0.1895707544,
          "Diabetes_binary": 0.3462943846,
          "DiffWalk": 0.3740655947,
          "Education": 0.9857741757,
          "Fruits": 0.4816391872,
          "GenHlth": 1.0684773623,
          "HeartDiseaseorAttack": 0.2920873148,
          "HighBP": 0.4949344627,
          "HighChol": 0.4942098047,
          "HvyAlcoholConsump": 0.2303017889,
          "Income": 2.0711475663,
          "MentHlth": 7.4128466962,
          "NoDocbcCost": 0.2776535009,
          "PhysActivity": 0.4291690434,
          "PhysHlth": 8.7179513072,
          "Sex": 0.4964291631,
          "Smoker": 0.4967606668,
          "Stroke": 0.1972940994,
          "Veggies": 0.3911754717,
          "index": "std",
          "uniqueID": 73231.2524814372
         },
         {
          "Age": 1,
          "AnyHealthcare": 0,
          "BMI": 12,
          "CholCheck": 0,
          "Diabetes_binary": 0,
          "DiffWalk": 0,
          "Education": 1,
          "Fruits": 0,
          "GenHlth": 1,
          "HeartDiseaseorAttack": 0,
          "HighBP": 0,
          "HighChol": 0,
          "HvyAlcoholConsump": 0,
          "Income": 1,
          "MentHlth": 0,
          "NoDocbcCost": 0,
          "PhysActivity": 0,
          "PhysHlth": 0,
          "Sex": 0,
          "Smoker": 0,
          "Stroke": 0,
          "Veggies": 0,
          "index": "min",
          "uniqueID": 0
         },
         {
          "Age": 6,
          "AnyHealthcare": 1,
          "BMI": 24,
          "CholCheck": 1,
          "Diabetes_binary": 0,
          "DiffWalk": 0,
          "Education": 4,
          "Fruits": 0,
          "GenHlth": 2,
          "HeartDiseaseorAttack": 0,
          "HighBP": 0,
          "HighChol": 0,
          "HvyAlcoholConsump": 0,
          "Income": 5,
          "MentHlth": 0,
          "NoDocbcCost": 0,
          "PhysActivity": 1,
          "PhysHlth": 0,
          "Sex": 0,
          "Smoker": 0,
          "Stroke": 0,
          "Veggies": 1,
          "index": "25%",
          "uniqueID": 63419.75
         },
         {
          "Age": 8,
          "AnyHealthcare": 1,
          "BMI": 27,
          "CholCheck": 1,
          "Diabetes_binary": 0,
          "DiffWalk": 0,
          "Education": 5,
          "Fruits": 1,
          "GenHlth": 2,
          "HeartDiseaseorAttack": 0,
          "HighBP": 0,
          "HighChol": 0,
          "HvyAlcoholConsump": 0,
          "Income": 7,
          "MentHlth": 0,
          "NoDocbcCost": 0,
          "PhysActivity": 1,
          "PhysHlth": 0,
          "Sex": 0,
          "Smoker": 0,
          "Stroke": 0,
          "Veggies": 1,
          "index": "50%",
          "uniqueID": 126839.5
         },
         {
          "Age": 10,
          "AnyHealthcare": 1,
          "BMI": 31,
          "CholCheck": 1,
          "Diabetes_binary": 0,
          "DiffWalk": 0,
          "Education": 6,
          "Fruits": 1,
          "GenHlth": 3,
          "HeartDiseaseorAttack": 0,
          "HighBP": 1,
          "HighChol": 1,
          "HvyAlcoholConsump": 0,
          "Income": 8,
          "MentHlth": 2,
          "NoDocbcCost": 0,
          "PhysActivity": 1,
          "PhysHlth": 3,
          "Sex": 1,
          "Smoker": 1,
          "Stroke": 0,
          "Veggies": 1,
          "index": "75%",
          "uniqueID": 190259.25
         },
         {
          "Age": 13,
          "AnyHealthcare": 1,
          "BMI": 98,
          "CholCheck": 1,
          "Diabetes_binary": 1,
          "DiffWalk": 1,
          "Education": 6,
          "Fruits": 1,
          "GenHlth": 5,
          "HeartDiseaseorAttack": 1,
          "HighBP": 1,
          "HighChol": 1,
          "HvyAlcoholConsump": 1,
          "Income": 8,
          "MentHlth": 30,
          "NoDocbcCost": 1,
          "PhysActivity": 1,
          "PhysHlth": 30,
          "Sex": 1,
          "Smoker": 1,
          "Stroke": 1,
          "Veggies": 1,
          "index": "max",
          "uniqueID": 253679
         }
        ],
        "schema": {
         "fields": [
          {
           "name": "index",
           "type": "string"
          },
          {
           "name": "uniqueID",
           "type": "number"
          },
          {
           "name": "Sex",
           "type": "number"
          },
          {
           "name": "Age",
           "type": "number"
          },
          {
           "name": "Education",
           "type": "number"
          },
          {
           "name": "Income",
           "type": "number"
          },
          {
           "name": "PhysHlth",
           "type": "number"
          },
          {
           "name": "Smoker",
           "type": "number"
          },
          {
           "name": "HeartDiseaseorAttack",
           "type": "number"
          },
          {
           "name": "BMI",
           "type": "number"
          },
          {
           "name": "DiffWalk",
           "type": "number"
          },
          {
           "name": "GenHlth",
           "type": "number"
          },
          {
           "name": "HighBP",
           "type": "number"
          },
          {
           "name": "HighChol",
           "type": "number"
          },
          {
           "name": "CholCheck",
           "type": "number"
          },
          {
           "name": "MentHlth",
           "type": "number"
          },
          {
           "name": "Veggies",
           "type": "number"
          },
          {
           "name": "Stroke",
           "type": "number"
          },
          {
           "name": "Fruits",
           "type": "number"
          },
          {
           "name": "PhysActivity",
           "type": "number"
          },
          {
           "name": "HvyAlcoholConsump",
           "type": "number"
          },
          {
           "name": "NoDocbcCost",
           "type": "number"
          },
          {
           "name": "AnyHealthcare",
           "type": "number"
          },
          {
           "name": "Diabetes_binary",
           "type": "number"
          }
         ],
         "pandas_version": "1.4.0",
         "primaryKey": [
          "index"
         ]
        }
       },
       "total_rows": 8,
       "truncation_type": null
      },
      "text/html": [
       "<div>\n",
       "<style scoped>\n",
       "    .dataframe tbody tr th:only-of-type {\n",
       "        vertical-align: middle;\n",
       "    }\n",
       "\n",
       "    .dataframe tbody tr th {\n",
       "        vertical-align: top;\n",
       "    }\n",
       "\n",
       "    .dataframe thead th {\n",
       "        text-align: right;\n",
       "    }\n",
       "</style>\n",
       "<table border=\"1\" class=\"dataframe\">\n",
       "  <thead>\n",
       "    <tr style=\"text-align: right;\">\n",
       "      <th></th>\n",
       "      <th>uniqueID</th>\n",
       "      <th>Sex</th>\n",
       "      <th>Age</th>\n",
       "      <th>Education</th>\n",
       "      <th>Income</th>\n",
       "      <th>PhysHlth</th>\n",
       "      <th>Smoker</th>\n",
       "      <th>HeartDiseaseorAttack</th>\n",
       "      <th>BMI</th>\n",
       "      <th>DiffWalk</th>\n",
       "      <th>GenHlth</th>\n",
       "      <th>HighBP</th>\n",
       "      <th>HighChol</th>\n",
       "      <th>CholCheck</th>\n",
       "      <th>MentHlth</th>\n",
       "      <th>Veggies</th>\n",
       "      <th>Stroke</th>\n",
       "      <th>Fruits</th>\n",
       "      <th>PhysActivity</th>\n",
       "      <th>HvyAlcoholConsump</th>\n",
       "      <th>NoDocbcCost</th>\n",
       "      <th>AnyHealthcare</th>\n",
       "      <th>Diabetes_binary</th>\n",
       "    </tr>\n",
       "  </thead>\n",
       "  <tbody>\n",
       "    <tr>\n",
       "      <th>count</th>\n",
       "      <td>253680.000000</td>\n",
       "      <td>253680.000000</td>\n",
       "      <td>253680.000000</td>\n",
       "      <td>253680.000000</td>\n",
       "      <td>253680.000000</td>\n",
       "      <td>253680.000000</td>\n",
       "      <td>253680.000000</td>\n",
       "      <td>253680.000000</td>\n",
       "      <td>253680.000000</td>\n",
       "      <td>253680.000000</td>\n",
       "      <td>253680.000000</td>\n",
       "      <td>253680.000000</td>\n",
       "      <td>253680.000000</td>\n",
       "      <td>253680.000000</td>\n",
       "      <td>253680.000000</td>\n",
       "      <td>253680.000000</td>\n",
       "      <td>253680.000000</td>\n",
       "      <td>253680.000000</td>\n",
       "      <td>253680.000000</td>\n",
       "      <td>253680.000000</td>\n",
       "      <td>253680.000000</td>\n",
       "      <td>253680.000000</td>\n",
       "      <td>253680.000000</td>\n",
       "    </tr>\n",
       "    <tr>\n",
       "      <th>mean</th>\n",
       "      <td>126839.500000</td>\n",
       "      <td>0.440342</td>\n",
       "      <td>8.032119</td>\n",
       "      <td>5.050434</td>\n",
       "      <td>6.053875</td>\n",
       "      <td>4.242081</td>\n",
       "      <td>0.443169</td>\n",
       "      <td>0.094186</td>\n",
       "      <td>28.382364</td>\n",
       "      <td>0.168224</td>\n",
       "      <td>2.511392</td>\n",
       "      <td>0.429001</td>\n",
       "      <td>0.424121</td>\n",
       "      <td>0.962670</td>\n",
       "      <td>3.184772</td>\n",
       "      <td>0.811420</td>\n",
       "      <td>0.040571</td>\n",
       "      <td>0.634256</td>\n",
       "      <td>0.756544</td>\n",
       "      <td>0.056197</td>\n",
       "      <td>0.084177</td>\n",
       "      <td>0.951053</td>\n",
       "      <td>0.139333</td>\n",
       "    </tr>\n",
       "    <tr>\n",
       "      <th>std</th>\n",
       "      <td>73231.252481</td>\n",
       "      <td>0.496429</td>\n",
       "      <td>3.054220</td>\n",
       "      <td>0.985774</td>\n",
       "      <td>2.071148</td>\n",
       "      <td>8.717951</td>\n",
       "      <td>0.496761</td>\n",
       "      <td>0.292087</td>\n",
       "      <td>6.608694</td>\n",
       "      <td>0.374066</td>\n",
       "      <td>1.068477</td>\n",
       "      <td>0.494934</td>\n",
       "      <td>0.494210</td>\n",
       "      <td>0.189571</td>\n",
       "      <td>7.412847</td>\n",
       "      <td>0.391175</td>\n",
       "      <td>0.197294</td>\n",
       "      <td>0.481639</td>\n",
       "      <td>0.429169</td>\n",
       "      <td>0.230302</td>\n",
       "      <td>0.277654</td>\n",
       "      <td>0.215759</td>\n",
       "      <td>0.346294</td>\n",
       "    </tr>\n",
       "    <tr>\n",
       "      <th>min</th>\n",
       "      <td>0.000000</td>\n",
       "      <td>0.000000</td>\n",
       "      <td>1.000000</td>\n",
       "      <td>1.000000</td>\n",
       "      <td>1.000000</td>\n",
       "      <td>0.000000</td>\n",
       "      <td>0.000000</td>\n",
       "      <td>0.000000</td>\n",
       "      <td>12.000000</td>\n",
       "      <td>0.000000</td>\n",
       "      <td>1.000000</td>\n",
       "      <td>0.000000</td>\n",
       "      <td>0.000000</td>\n",
       "      <td>0.000000</td>\n",
       "      <td>0.000000</td>\n",
       "      <td>0.000000</td>\n",
       "      <td>0.000000</td>\n",
       "      <td>0.000000</td>\n",
       "      <td>0.000000</td>\n",
       "      <td>0.000000</td>\n",
       "      <td>0.000000</td>\n",
       "      <td>0.000000</td>\n",
       "      <td>0.000000</td>\n",
       "    </tr>\n",
       "    <tr>\n",
       "      <th>25%</th>\n",
       "      <td>63419.750000</td>\n",
       "      <td>0.000000</td>\n",
       "      <td>6.000000</td>\n",
       "      <td>4.000000</td>\n",
       "      <td>5.000000</td>\n",
       "      <td>0.000000</td>\n",
       "      <td>0.000000</td>\n",
       "      <td>0.000000</td>\n",
       "      <td>24.000000</td>\n",
       "      <td>0.000000</td>\n",
       "      <td>2.000000</td>\n",
       "      <td>0.000000</td>\n",
       "      <td>0.000000</td>\n",
       "      <td>1.000000</td>\n",
       "      <td>0.000000</td>\n",
       "      <td>1.000000</td>\n",
       "      <td>0.000000</td>\n",
       "      <td>0.000000</td>\n",
       "      <td>1.000000</td>\n",
       "      <td>0.000000</td>\n",
       "      <td>0.000000</td>\n",
       "      <td>1.000000</td>\n",
       "      <td>0.000000</td>\n",
       "    </tr>\n",
       "    <tr>\n",
       "      <th>50%</th>\n",
       "      <td>126839.500000</td>\n",
       "      <td>0.000000</td>\n",
       "      <td>8.000000</td>\n",
       "      <td>5.000000</td>\n",
       "      <td>7.000000</td>\n",
       "      <td>0.000000</td>\n",
       "      <td>0.000000</td>\n",
       "      <td>0.000000</td>\n",
       "      <td>27.000000</td>\n",
       "      <td>0.000000</td>\n",
       "      <td>2.000000</td>\n",
       "      <td>0.000000</td>\n",
       "      <td>0.000000</td>\n",
       "      <td>1.000000</td>\n",
       "      <td>0.000000</td>\n",
       "      <td>1.000000</td>\n",
       "      <td>0.000000</td>\n",
       "      <td>1.000000</td>\n",
       "      <td>1.000000</td>\n",
       "      <td>0.000000</td>\n",
       "      <td>0.000000</td>\n",
       "      <td>1.000000</td>\n",
       "      <td>0.000000</td>\n",
       "    </tr>\n",
       "    <tr>\n",
       "      <th>75%</th>\n",
       "      <td>190259.250000</td>\n",
       "      <td>1.000000</td>\n",
       "      <td>10.000000</td>\n",
       "      <td>6.000000</td>\n",
       "      <td>8.000000</td>\n",
       "      <td>3.000000</td>\n",
       "      <td>1.000000</td>\n",
       "      <td>0.000000</td>\n",
       "      <td>31.000000</td>\n",
       "      <td>0.000000</td>\n",
       "      <td>3.000000</td>\n",
       "      <td>1.000000</td>\n",
       "      <td>1.000000</td>\n",
       "      <td>1.000000</td>\n",
       "      <td>2.000000</td>\n",
       "      <td>1.000000</td>\n",
       "      <td>0.000000</td>\n",
       "      <td>1.000000</td>\n",
       "      <td>1.000000</td>\n",
       "      <td>0.000000</td>\n",
       "      <td>0.000000</td>\n",
       "      <td>1.000000</td>\n",
       "      <td>0.000000</td>\n",
       "    </tr>\n",
       "    <tr>\n",
       "      <th>max</th>\n",
       "      <td>253679.000000</td>\n",
       "      <td>1.000000</td>\n",
       "      <td>13.000000</td>\n",
       "      <td>6.000000</td>\n",
       "      <td>8.000000</td>\n",
       "      <td>30.000000</td>\n",
       "      <td>1.000000</td>\n",
       "      <td>1.000000</td>\n",
       "      <td>98.000000</td>\n",
       "      <td>1.000000</td>\n",
       "      <td>5.000000</td>\n",
       "      <td>1.000000</td>\n",
       "      <td>1.000000</td>\n",
       "      <td>1.000000</td>\n",
       "      <td>30.000000</td>\n",
       "      <td>1.000000</td>\n",
       "      <td>1.000000</td>\n",
       "      <td>1.000000</td>\n",
       "      <td>1.000000</td>\n",
       "      <td>1.000000</td>\n",
       "      <td>1.000000</td>\n",
       "      <td>1.000000</td>\n",
       "      <td>1.000000</td>\n",
       "    </tr>\n",
       "  </tbody>\n",
       "</table>\n",
       "</div>"
      ],
      "text/plain": [
       "            uniqueID            Sex  ...  AnyHealthcare  Diabetes_binary\n",
       "count  253680.000000  253680.000000  ...  253680.000000    253680.000000\n",
       "mean   126839.500000       0.440342  ...       0.951053         0.139333\n",
       "std     73231.252481       0.496429  ...       0.215759         0.346294\n",
       "min         0.000000       0.000000  ...       0.000000         0.000000\n",
       "25%     63419.750000       0.000000  ...       1.000000         0.000000\n",
       "50%    126839.500000       0.000000  ...       1.000000         0.000000\n",
       "75%    190259.250000       1.000000  ...       1.000000         0.000000\n",
       "max    253679.000000       1.000000  ...       1.000000         1.000000\n",
       "\n",
       "[8 rows x 23 columns]"
      ]
     },
     "execution_count": 16,
     "metadata": {},
     "output_type": "execute_result"
    }
   ],
   "source": [
    "df.describe()"
   ]
  },
  {
   "cell_type": "markdown",
   "id": "1479f9b3-5262-489a-b5ec-1b2f8a25d21f",
   "metadata": {},
   "source": [
    "# Data Cleaning"
   ]
  },
  {
   "cell_type": "markdown",
   "id": "41634389-4749-4465-8ade-50f98ef4eaee",
   "metadata": {},
   "source": [
    "Issues found:\n",
    "- The uniqueID column is no longer necessary\n",
    "- all the headers should be lowercase\n",
    "- gender is currently 0 and 1 values, which makes it harder than necessary to understand\n",
    "- health dict is not intuitive with higher scores meaning lower ratings. Change for clarity\n",
    "- some columns have multiple values for the same thing"
   ]
  },
  {
   "cell_type": "code",
   "execution_count": 67,
   "id": "4058557f-5584-460a-9fa7-2dfa1a72ff8a",
   "metadata": {
    "executionTime": 76,
    "lastSuccessfullyExecutedCode": "# Creating a copy before cleaning\nclean_df = df.copy()"
   },
   "outputs": [],
   "source": [
    "# Creating a copy before cleaning\n",
    "clean_df = df.copy()"
   ]
  },
  {
   "cell_type": "code",
   "execution_count": 68,
   "id": "f32a5fe4-6bf8-49fd-8715-6eaa23bec192",
   "metadata": {
    "executionTime": 102,
    "lastSuccessfullyExecutedCode": "# Making sure it worked\nclean_df.head()"
   },
   "outputs": [
    {
     "data": {
      "application/com.datacamp.data-table.v1+json": {
       "table": {
        "data": [
         {
          "Age": 9,
          "AnyHealthcare": 1,
          "BMI": 40,
          "CholCheck": 1,
          "Diabetes_binary": 0,
          "DiffWalk": 1,
          "Education": 4,
          "Fruits": 0,
          "GenHlth": 5,
          "HeartDiseaseorAttack": 0,
          "HighBP": 1,
          "HighChol": 1,
          "HvyAlcoholConsump": 0,
          "Income": 3,
          "MentHlth": 18,
          "NoDocbcCost": 0,
          "PhysActivity": 0,
          "PhysHlth": 15,
          "Sex": 0,
          "Smoker": 1,
          "Stroke": 0,
          "Veggies": 1,
          "index": 0,
          "uniqueID": 0
         },
         {
          "Age": 7,
          "AnyHealthcare": 0,
          "BMI": 25,
          "CholCheck": 0,
          "Diabetes_binary": 0,
          "DiffWalk": 0,
          "Education": 6,
          "Fruits": 0,
          "GenHlth": 3,
          "HeartDiseaseorAttack": 0,
          "HighBP": 0,
          "HighChol": 0,
          "HvyAlcoholConsump": 0,
          "Income": 1,
          "MentHlth": 0,
          "NoDocbcCost": 1,
          "PhysActivity": 1,
          "PhysHlth": 0,
          "Sex": 0,
          "Smoker": 1,
          "Stroke": 0,
          "Veggies": 0,
          "index": 1,
          "uniqueID": 1
         },
         {
          "Age": 9,
          "AnyHealthcare": 1,
          "BMI": 28,
          "CholCheck": 1,
          "Diabetes_binary": 0,
          "DiffWalk": 1,
          "Education": 4,
          "Fruits": 1,
          "GenHlth": 5,
          "HeartDiseaseorAttack": 0,
          "HighBP": 1,
          "HighChol": 1,
          "HvyAlcoholConsump": 0,
          "Income": 8,
          "MentHlth": 30,
          "NoDocbcCost": 1,
          "PhysActivity": 0,
          "PhysHlth": 30,
          "Sex": 0,
          "Smoker": 0,
          "Stroke": 0,
          "Veggies": 0,
          "index": 2,
          "uniqueID": 2
         },
         {
          "Age": 11,
          "AnyHealthcare": 1,
          "BMI": 27,
          "CholCheck": 1,
          "Diabetes_binary": 0,
          "DiffWalk": 0,
          "Education": 3,
          "Fruits": 1,
          "GenHlth": 2,
          "HeartDiseaseorAttack": 0,
          "HighBP": 1,
          "HighChol": 0,
          "HvyAlcoholConsump": 0,
          "Income": 6,
          "MentHlth": 0,
          "NoDocbcCost": 0,
          "PhysActivity": 1,
          "PhysHlth": 0,
          "Sex": 0,
          "Smoker": 0,
          "Stroke": 0,
          "Veggies": 1,
          "index": 3,
          "uniqueID": 3
         },
         {
          "Age": 11,
          "AnyHealthcare": 1,
          "BMI": 24,
          "CholCheck": 1,
          "Diabetes_binary": 0,
          "DiffWalk": 0,
          "Education": 5,
          "Fruits": 1,
          "GenHlth": 2,
          "HeartDiseaseorAttack": 0,
          "HighBP": 1,
          "HighChol": 1,
          "HvyAlcoholConsump": 0,
          "Income": 4,
          "MentHlth": 3,
          "NoDocbcCost": 0,
          "PhysActivity": 1,
          "PhysHlth": 0,
          "Sex": 0,
          "Smoker": 0,
          "Stroke": 0,
          "Veggies": 1,
          "index": 4,
          "uniqueID": 4
         }
        ],
        "schema": {
         "fields": [
          {
           "name": "index",
           "type": "integer"
          },
          {
           "name": "uniqueID",
           "type": "integer"
          },
          {
           "name": "Sex",
           "type": "integer"
          },
          {
           "name": "Age",
           "type": "integer"
          },
          {
           "name": "Education",
           "type": "integer"
          },
          {
           "name": "Income",
           "type": "integer"
          },
          {
           "name": "PhysHlth",
           "type": "integer"
          },
          {
           "name": "Smoker",
           "type": "integer"
          },
          {
           "name": "HeartDiseaseorAttack",
           "type": "integer"
          },
          {
           "name": "BMI",
           "type": "integer"
          },
          {
           "name": "DiffWalk",
           "type": "integer"
          },
          {
           "name": "GenHlth",
           "type": "integer"
          },
          {
           "name": "HighBP",
           "type": "integer"
          },
          {
           "name": "HighChol",
           "type": "integer"
          },
          {
           "name": "CholCheck",
           "type": "integer"
          },
          {
           "name": "MentHlth",
           "type": "integer"
          },
          {
           "name": "Veggies",
           "type": "integer"
          },
          {
           "name": "Stroke",
           "type": "integer"
          },
          {
           "name": "Fruits",
           "type": "integer"
          },
          {
           "name": "PhysActivity",
           "type": "integer"
          },
          {
           "name": "HvyAlcoholConsump",
           "type": "integer"
          },
          {
           "name": "NoDocbcCost",
           "type": "integer"
          },
          {
           "name": "AnyHealthcare",
           "type": "integer"
          },
          {
           "name": "Diabetes_binary",
           "type": "number"
          }
         ],
         "pandas_version": "1.4.0",
         "primaryKey": [
          "index"
         ]
        }
       },
       "total_rows": 5,
       "truncation_type": null
      },
      "text/html": [
       "<div>\n",
       "<style scoped>\n",
       "    .dataframe tbody tr th:only-of-type {\n",
       "        vertical-align: middle;\n",
       "    }\n",
       "\n",
       "    .dataframe tbody tr th {\n",
       "        vertical-align: top;\n",
       "    }\n",
       "\n",
       "    .dataframe thead th {\n",
       "        text-align: right;\n",
       "    }\n",
       "</style>\n",
       "<table border=\"1\" class=\"dataframe\">\n",
       "  <thead>\n",
       "    <tr style=\"text-align: right;\">\n",
       "      <th></th>\n",
       "      <th>uniqueID</th>\n",
       "      <th>Sex</th>\n",
       "      <th>Age</th>\n",
       "      <th>Education</th>\n",
       "      <th>Income</th>\n",
       "      <th>PhysHlth</th>\n",
       "      <th>Smoker</th>\n",
       "      <th>HeartDiseaseorAttack</th>\n",
       "      <th>BMI</th>\n",
       "      <th>DiffWalk</th>\n",
       "      <th>GenHlth</th>\n",
       "      <th>HighBP</th>\n",
       "      <th>HighChol</th>\n",
       "      <th>CholCheck</th>\n",
       "      <th>MentHlth</th>\n",
       "      <th>Veggies</th>\n",
       "      <th>Stroke</th>\n",
       "      <th>Fruits</th>\n",
       "      <th>PhysActivity</th>\n",
       "      <th>HvyAlcoholConsump</th>\n",
       "      <th>NoDocbcCost</th>\n",
       "      <th>AnyHealthcare</th>\n",
       "      <th>Diabetes_binary</th>\n",
       "    </tr>\n",
       "  </thead>\n",
       "  <tbody>\n",
       "    <tr>\n",
       "      <th>0</th>\n",
       "      <td>0</td>\n",
       "      <td>0</td>\n",
       "      <td>9</td>\n",
       "      <td>4</td>\n",
       "      <td>3</td>\n",
       "      <td>15</td>\n",
       "      <td>1</td>\n",
       "      <td>0</td>\n",
       "      <td>40</td>\n",
       "      <td>1</td>\n",
       "      <td>5</td>\n",
       "      <td>1</td>\n",
       "      <td>1</td>\n",
       "      <td>1</td>\n",
       "      <td>18</td>\n",
       "      <td>1</td>\n",
       "      <td>0</td>\n",
       "      <td>0</td>\n",
       "      <td>0</td>\n",
       "      <td>0</td>\n",
       "      <td>0</td>\n",
       "      <td>1</td>\n",
       "      <td>0.0</td>\n",
       "    </tr>\n",
       "    <tr>\n",
       "      <th>1</th>\n",
       "      <td>1</td>\n",
       "      <td>0</td>\n",
       "      <td>7</td>\n",
       "      <td>6</td>\n",
       "      <td>1</td>\n",
       "      <td>0</td>\n",
       "      <td>1</td>\n",
       "      <td>0</td>\n",
       "      <td>25</td>\n",
       "      <td>0</td>\n",
       "      <td>3</td>\n",
       "      <td>0</td>\n",
       "      <td>0</td>\n",
       "      <td>0</td>\n",
       "      <td>0</td>\n",
       "      <td>0</td>\n",
       "      <td>0</td>\n",
       "      <td>0</td>\n",
       "      <td>1</td>\n",
       "      <td>0</td>\n",
       "      <td>1</td>\n",
       "      <td>0</td>\n",
       "      <td>0.0</td>\n",
       "    </tr>\n",
       "    <tr>\n",
       "      <th>2</th>\n",
       "      <td>2</td>\n",
       "      <td>0</td>\n",
       "      <td>9</td>\n",
       "      <td>4</td>\n",
       "      <td>8</td>\n",
       "      <td>30</td>\n",
       "      <td>0</td>\n",
       "      <td>0</td>\n",
       "      <td>28</td>\n",
       "      <td>1</td>\n",
       "      <td>5</td>\n",
       "      <td>1</td>\n",
       "      <td>1</td>\n",
       "      <td>1</td>\n",
       "      <td>30</td>\n",
       "      <td>0</td>\n",
       "      <td>0</td>\n",
       "      <td>1</td>\n",
       "      <td>0</td>\n",
       "      <td>0</td>\n",
       "      <td>1</td>\n",
       "      <td>1</td>\n",
       "      <td>0.0</td>\n",
       "    </tr>\n",
       "    <tr>\n",
       "      <th>3</th>\n",
       "      <td>3</td>\n",
       "      <td>0</td>\n",
       "      <td>11</td>\n",
       "      <td>3</td>\n",
       "      <td>6</td>\n",
       "      <td>0</td>\n",
       "      <td>0</td>\n",
       "      <td>0</td>\n",
       "      <td>27</td>\n",
       "      <td>0</td>\n",
       "      <td>2</td>\n",
       "      <td>1</td>\n",
       "      <td>0</td>\n",
       "      <td>1</td>\n",
       "      <td>0</td>\n",
       "      <td>1</td>\n",
       "      <td>0</td>\n",
       "      <td>1</td>\n",
       "      <td>1</td>\n",
       "      <td>0</td>\n",
       "      <td>0</td>\n",
       "      <td>1</td>\n",
       "      <td>0.0</td>\n",
       "    </tr>\n",
       "    <tr>\n",
       "      <th>4</th>\n",
       "      <td>4</td>\n",
       "      <td>0</td>\n",
       "      <td>11</td>\n",
       "      <td>5</td>\n",
       "      <td>4</td>\n",
       "      <td>0</td>\n",
       "      <td>0</td>\n",
       "      <td>0</td>\n",
       "      <td>24</td>\n",
       "      <td>0</td>\n",
       "      <td>2</td>\n",
       "      <td>1</td>\n",
       "      <td>1</td>\n",
       "      <td>1</td>\n",
       "      <td>3</td>\n",
       "      <td>1</td>\n",
       "      <td>0</td>\n",
       "      <td>1</td>\n",
       "      <td>1</td>\n",
       "      <td>0</td>\n",
       "      <td>0</td>\n",
       "      <td>1</td>\n",
       "      <td>0.0</td>\n",
       "    </tr>\n",
       "  </tbody>\n",
       "</table>\n",
       "</div>"
      ],
      "text/plain": [
       "   uniqueID  Sex  Age  ...  NoDocbcCost  AnyHealthcare  Diabetes_binary\n",
       "0         0    0    9  ...            0              1              0.0\n",
       "1         1    0    7  ...            1              0              0.0\n",
       "2         2    0    9  ...            1              1              0.0\n",
       "3         3    0   11  ...            0              1              0.0\n",
       "4         4    0   11  ...            0              1              0.0\n",
       "\n",
       "[5 rows x 23 columns]"
      ]
     },
     "execution_count": 68,
     "metadata": {},
     "output_type": "execute_result"
    }
   ],
   "source": [
    "# Making sure it worked\n",
    "clean_df.head()"
   ]
  },
  {
   "cell_type": "code",
   "execution_count": 69,
   "id": "5e438988-18f3-4d1b-b82f-8fef547a0a60",
   "metadata": {
    "executionTime": 50,
    "lastSuccessfullyExecutedCode": "# Dropping UniqueID column\nclean_df = clean_df.drop('uniqueID', axis=1)"
   },
   "outputs": [],
   "source": [
    "# Dropping UniqueID column\n",
    "clean_df = clean_df.drop('uniqueID', axis=1)"
   ]
  },
  {
   "cell_type": "code",
   "execution_count": 74,
   "id": "baaa9a2d-21a0-4eb9-9f3d-de1f5c245d85",
   "metadata": {
    "executionTime": 49,
    "lastSuccessfullyExecutedCode": "# all the headers should be lowercase\nclean_df.columns = [x.lower() for x in clean_df.columns]"
   },
   "outputs": [],
   "source": [
    "# all the headers should be lowercase\n",
    "clean_df.columns = [x.lower() for x in clean_df.columns]"
   ]
  },
  {
   "cell_type": "code",
   "execution_count": 77,
   "id": "703297a0-b151-432b-9c82-fa39f3a9c3cd",
   "metadata": {
    "executionTime": 56,
    "lastSuccessfullyExecutedCode": "# gender is currently 0 and 1 values, which makes it harder than necessary to understand\n\ngender_values = {0:\"female\",\n                1:\"male\"}\nclean_df = clean_df.replace({\"sex\" : gender_values})"
   },
   "outputs": [],
   "source": [
    "# gender is currently 0 and 1 values, which makes it harder than necessary to understand\n",
    "\n",
    "gender_values = {0:\"female\",\n",
    "                1:\"male\"}\n",
    "clean_df = clean_df.replace({\"sex\" : gender_values})"
   ]
  },
  {
   "cell_type": "code",
   "execution_count": 71,
   "id": "2f8df7fe-600b-42e0-bf8b-77646b45caa7",
   "metadata": {
    "executionTime": 52,
    "lastSuccessfullyExecutedCode": "# health dict is not intuitive with higher scores meaning lower ratings. Change for clarity\nhealth_values = {1 : \"excellent\",\n                 2 : \"very good\",\n                 3 : \"good\",\n                 4 : \"fair\",\n                 5 : \"poor\"}\n\nclean_df = clean_df.replace({\"genhlth\" : health_values})"
   },
   "outputs": [],
   "source": [
    "# health dict is not intuitive with higher scores meaning lower ratings. Change for clarity\n",
    "health_values = {1 : \"excellent\",\n",
    "                 2 : \"very good\",\n",
    "                 3 : \"good\",\n",
    "                 4 : \"fair\",\n",
    "                 5 : \"poor\"}\n",
    "\n",
    "clean_df = clean_df.replace({\"genhlth\" : health_values})"
   ]
  },
  {
   "cell_type": "code",
   "execution_count": 78,
   "id": "dd1d928d-5be4-4c3b-9995-5d6bd7fc187b",
   "metadata": {
    "executionTime": 72,
    "lastSuccessfullyExecutedCode": "# some columns have multiple values for the same thing\n\n#Income has multiple choices that mean the same thing and the column is difficult to decipher as is. Let's change that. \nincome_values = {1 : \"<15k\",\n                2 : \"<15k\",\n                3 : \"15k to <25k\",\n                4 : \"15k to <25k\",\n                5 : \"25k to <35k\",\n                6 : \"35k to <50k\",\n                7 : \">=50k\",\n                8 : \">=50k\",\n                9 : \"Unkown\"}\nclean_df = clean_df.replace({\"income\" : income_values})"
   },
   "outputs": [],
   "source": [
    "# some columns have multiple values for the same thing\n",
    "\n",
    "#Income has multiple choices that mean the same thing and the column is difficult to decipher as is. Let's change that. \n",
    "income_values = {1 : \"<15k\",\n",
    "                2 : \"<15k\",\n",
    "                3 : \"15k to <25k\",\n",
    "                4 : \"15k to <25k\",\n",
    "                5 : \"25k to <35k\",\n",
    "                6 : \"35k to <50k\",\n",
    "                7 : \">=50k\",\n",
    "                8 : \">=50k\",\n",
    "                9 : \"Unkown\"}\n",
    "clean_df = clean_df.replace({\"income\" : income_values})"
   ]
  },
  {
   "cell_type": "code",
   "execution_count": 79,
   "id": "4f0b2877-3512-4b44-bd35-c63dbfaa68cf",
   "metadata": {
    "executionTime": 96,
    "lastSuccessfullyExecutedCode": "clean_df['income'].value_counts()"
   },
   "outputs": [
    {
     "data": {
      "text/plain": [
       ">=50k          133604\n",
       "35k to <50k     36470\n",
       "15k to <25k     36129\n",
       "25k to <35k     25883\n",
       "<15k            21594\n",
       "Name: income, dtype: int64"
      ]
     },
     "execution_count": 79,
     "metadata": {},
     "output_type": "execute_result"
    }
   ],
   "source": [
    "clean_df['income'].value_counts()"
   ]
  },
  {
   "cell_type": "code",
   "execution_count": 80,
   "id": "c9bb9f67-ab60-4051-970f-877971bbac9d",
   "metadata": {
    "executionTime": 101,
    "lastSuccessfullyExecutedCode": "education_values = {1 : \"Didn’t graduate high school\",\n                    2 : \"Didn’t graduate high school\",\n                    3 : \"Didn’t graduate high school\",\n                    4 : \"graduated high school\",\n                    5 : \"attended college or technical school\",\n                    6 : \"graduated college or technical school\",\n                    9 : \"unknown\"}\nclean_df = clean_df.replace({\"education\" : education_values})"
   },
   "outputs": [],
   "source": [
    "education_values = {1 : \"Didn’t graduate high school\",\n",
    "                    2 : \"Didn’t graduate high school\",\n",
    "                    3 : \"Didn’t graduate high school\",\n",
    "                    4 : \"graduated high school\",\n",
    "                    5 : \"attended college or technical school\",\n",
    "                    6 : \"graduated college or technical school\",\n",
    "                    9 : \"unknown\"}\n",
    "clean_df = clean_df.replace({\"education\" : education_values})"
   ]
  },
  {
   "cell_type": "code",
   "execution_count": 81,
   "id": "6ad7b9a2-65ba-4cf7-817a-8ca7846f08eb",
   "metadata": {
    "executionTime": 50,
    "lastSuccessfullyExecutedCode": "clean_df['education'].value_counts()"
   },
   "outputs": [
    {
     "data": {
      "text/plain": [
       "graduated college or technical school    107325\n",
       "attended college or technical school      69910\n",
       "graduated high school                     62750\n",
       "Didn’t graduate high school               13695\n",
       "Name: education, dtype: int64"
      ]
     },
     "execution_count": 81,
     "metadata": {},
     "output_type": "execute_result"
    }
   ],
   "source": [
    "clean_df['education'].value_counts()"
   ]
  },
  {
   "cell_type": "code",
   "execution_count": 82,
   "id": "b4011423-5b3d-4be7-80fb-921442056b7d",
   "metadata": {
    "executionTime": 104,
    "lastSuccessfullyExecutedCode": "age_values = {1 : \"18 <= AGE <= 24\",\n              2 : \"25 <= AGE <= 29\",\n              3 : \"30 <= AGE <= 34\",\n              4 : \"35 <= AGE <= 39\",\n              5 : \"40 <= AGE <= 44\",\n              6 : \"45 <= AGE <= 49\",\n              7 : \"50 <= AGE <= 54\",\n              8 : \"55 <= AGE <= 59\",\n              9 : \"60 <= AGE <= 64\",\n              10 : \"65 <= AGE <= 69\",\n              11 : \"70 <= AGE <= 74\",\n              12 : \"75 <= AGE <= 79\",\n              13 : \"80 <= AGE <= 99\",\n              14 : \"unknown\"}\nclean_df = clean_df.replace({\"age\" : age_values})"
   },
   "outputs": [],
   "source": [
    "age_values = {1 : \"18 <= AGE <= 24\",\n",
    "              2 : \"25 <= AGE <= 29\",\n",
    "              3 : \"30 <= AGE <= 34\",\n",
    "              4 : \"35 <= AGE <= 39\",\n",
    "              5 : \"40 <= AGE <= 44\",\n",
    "              6 : \"45 <= AGE <= 49\",\n",
    "              7 : \"50 <= AGE <= 54\",\n",
    "              8 : \"55 <= AGE <= 59\",\n",
    "              9 : \"60 <= AGE <= 64\",\n",
    "              10 : \"65 <= AGE <= 69\",\n",
    "              11 : \"70 <= AGE <= 74\",\n",
    "              12 : \"75 <= AGE <= 79\",\n",
    "              13 : \"80 <= AGE <= 99\",\n",
    "              14 : \"unknown\"}\n",
    "clean_df = clean_df.replace({\"age\" : age_values})"
   ]
  },
  {
   "cell_type": "code",
   "execution_count": 83,
   "id": "82fd971d-0cb0-4a70-9e54-5110960de156",
   "metadata": {
    "executionTime": 54,
    "lastSuccessfullyExecutedCode": "clean_df['age'].value_counts()"
   },
   "outputs": [
    {
     "data": {
      "text/plain": [
       "60 <= AGE <= 64    33244\n",
       "65 <= AGE <= 69    32194\n",
       "55 <= AGE <= 59    30832\n",
       "50 <= AGE <= 54    26314\n",
       "70 <= AGE <= 74    23533\n",
       "45 <= AGE <= 49    19819\n",
       "80 <= AGE <= 99    17363\n",
       "40 <= AGE <= 44    16157\n",
       "75 <= AGE <= 79    15980\n",
       "35 <= AGE <= 39    13823\n",
       "30 <= AGE <= 34    11123\n",
       "25 <= AGE <= 29     7598\n",
       "18 <= AGE <= 24     5700\n",
       "Name: age, dtype: int64"
      ]
     },
     "execution_count": 83,
     "metadata": {},
     "output_type": "execute_result"
    }
   ],
   "source": [
    "clean_df['age'].value_counts()"
   ]
  },
  {
   "cell_type": "code",
   "execution_count": 84,
   "id": "38bc5e2e-9706-4e23-9b95-4265dde5b692",
   "metadata": {
    "executionTime": 98,
    "lastSuccessfullyExecutedCode": "# Making sure it worked\n\nclean_df.head()"
   },
   "outputs": [
    {
     "data": {
      "application/com.datacamp.data-table.v1+json": {
       "table": {
        "data": [
         {
          "age": "60 <= AGE <= 64",
          "anyhealthcare": 1,
          "bmi": 40,
          "cholcheck": 1,
          "diabetes_binary": 0,
          "diffwalk": 1,
          "education": "graduated high school",
          "fruits": 0,
          "genhlth": 5,
          "heartdiseaseorattack": 0,
          "highbp": 1,
          "highchol": 1,
          "hvyalcoholconsump": 0,
          "income": "15k to <25k",
          "index": 0,
          "menthlth": 18,
          "nodocbccost": 0,
          "physactivity": 0,
          "physhlth": 15,
          "sex": "female",
          "smoker": 1,
          "stroke": 0,
          "veggies": 1
         },
         {
          "age": "50 <= AGE <= 54",
          "anyhealthcare": 0,
          "bmi": 25,
          "cholcheck": 0,
          "diabetes_binary": 0,
          "diffwalk": 0,
          "education": "graduated college or technical school",
          "fruits": 0,
          "genhlth": 3,
          "heartdiseaseorattack": 0,
          "highbp": 0,
          "highchol": 0,
          "hvyalcoholconsump": 0,
          "income": "<15k",
          "index": 1,
          "menthlth": 0,
          "nodocbccost": 1,
          "physactivity": 1,
          "physhlth": 0,
          "sex": "female",
          "smoker": 1,
          "stroke": 0,
          "veggies": 0
         },
         {
          "age": "60 <= AGE <= 64",
          "anyhealthcare": 1,
          "bmi": 28,
          "cholcheck": 1,
          "diabetes_binary": 0,
          "diffwalk": 1,
          "education": "graduated high school",
          "fruits": 1,
          "genhlth": 5,
          "heartdiseaseorattack": 0,
          "highbp": 1,
          "highchol": 1,
          "hvyalcoholconsump": 0,
          "income": ">=50k",
          "index": 2,
          "menthlth": 30,
          "nodocbccost": 1,
          "physactivity": 0,
          "physhlth": 30,
          "sex": "female",
          "smoker": 0,
          "stroke": 0,
          "veggies": 0
         },
         {
          "age": "70 <= AGE <= 74",
          "anyhealthcare": 1,
          "bmi": 27,
          "cholcheck": 1,
          "diabetes_binary": 0,
          "diffwalk": 0,
          "education": "Didn’t graduate high school",
          "fruits": 1,
          "genhlth": 2,
          "heartdiseaseorattack": 0,
          "highbp": 1,
          "highchol": 0,
          "hvyalcoholconsump": 0,
          "income": "35k to <50k",
          "index": 3,
          "menthlth": 0,
          "nodocbccost": 0,
          "physactivity": 1,
          "physhlth": 0,
          "sex": "female",
          "smoker": 0,
          "stroke": 0,
          "veggies": 1
         },
         {
          "age": "70 <= AGE <= 74",
          "anyhealthcare": 1,
          "bmi": 24,
          "cholcheck": 1,
          "diabetes_binary": 0,
          "diffwalk": 0,
          "education": "attended college or technical school",
          "fruits": 1,
          "genhlth": 2,
          "heartdiseaseorattack": 0,
          "highbp": 1,
          "highchol": 1,
          "hvyalcoholconsump": 0,
          "income": "15k to <25k",
          "index": 4,
          "menthlth": 3,
          "nodocbccost": 0,
          "physactivity": 1,
          "physhlth": 0,
          "sex": "female",
          "smoker": 0,
          "stroke": 0,
          "veggies": 1
         }
        ],
        "schema": {
         "fields": [
          {
           "name": "index",
           "type": "integer"
          },
          {
           "name": "sex",
           "type": "string"
          },
          {
           "name": "age",
           "type": "string"
          },
          {
           "name": "education",
           "type": "string"
          },
          {
           "name": "income",
           "type": "string"
          },
          {
           "name": "physhlth",
           "type": "integer"
          },
          {
           "name": "smoker",
           "type": "integer"
          },
          {
           "name": "heartdiseaseorattack",
           "type": "integer"
          },
          {
           "name": "bmi",
           "type": "integer"
          },
          {
           "name": "diffwalk",
           "type": "integer"
          },
          {
           "name": "genhlth",
           "type": "integer"
          },
          {
           "name": "highbp",
           "type": "integer"
          },
          {
           "name": "highchol",
           "type": "integer"
          },
          {
           "name": "cholcheck",
           "type": "integer"
          },
          {
           "name": "menthlth",
           "type": "integer"
          },
          {
           "name": "veggies",
           "type": "integer"
          },
          {
           "name": "stroke",
           "type": "integer"
          },
          {
           "name": "fruits",
           "type": "integer"
          },
          {
           "name": "physactivity",
           "type": "integer"
          },
          {
           "name": "hvyalcoholconsump",
           "type": "integer"
          },
          {
           "name": "nodocbccost",
           "type": "integer"
          },
          {
           "name": "anyhealthcare",
           "type": "integer"
          },
          {
           "name": "diabetes_binary",
           "type": "number"
          }
         ],
         "pandas_version": "1.4.0",
         "primaryKey": [
          "index"
         ]
        }
       },
       "total_rows": 5,
       "truncation_type": null
      },
      "text/html": [
       "<div>\n",
       "<style scoped>\n",
       "    .dataframe tbody tr th:only-of-type {\n",
       "        vertical-align: middle;\n",
       "    }\n",
       "\n",
       "    .dataframe tbody tr th {\n",
       "        vertical-align: top;\n",
       "    }\n",
       "\n",
       "    .dataframe thead th {\n",
       "        text-align: right;\n",
       "    }\n",
       "</style>\n",
       "<table border=\"1\" class=\"dataframe\">\n",
       "  <thead>\n",
       "    <tr style=\"text-align: right;\">\n",
       "      <th></th>\n",
       "      <th>sex</th>\n",
       "      <th>age</th>\n",
       "      <th>education</th>\n",
       "      <th>income</th>\n",
       "      <th>physhlth</th>\n",
       "      <th>smoker</th>\n",
       "      <th>heartdiseaseorattack</th>\n",
       "      <th>bmi</th>\n",
       "      <th>diffwalk</th>\n",
       "      <th>genhlth</th>\n",
       "      <th>highbp</th>\n",
       "      <th>highchol</th>\n",
       "      <th>cholcheck</th>\n",
       "      <th>menthlth</th>\n",
       "      <th>veggies</th>\n",
       "      <th>stroke</th>\n",
       "      <th>fruits</th>\n",
       "      <th>physactivity</th>\n",
       "      <th>hvyalcoholconsump</th>\n",
       "      <th>nodocbccost</th>\n",
       "      <th>anyhealthcare</th>\n",
       "      <th>diabetes_binary</th>\n",
       "    </tr>\n",
       "  </thead>\n",
       "  <tbody>\n",
       "    <tr>\n",
       "      <th>0</th>\n",
       "      <td>female</td>\n",
       "      <td>60 &lt;= AGE &lt;= 64</td>\n",
       "      <td>graduated high school</td>\n",
       "      <td>15k to &lt;25k</td>\n",
       "      <td>15</td>\n",
       "      <td>1</td>\n",
       "      <td>0</td>\n",
       "      <td>40</td>\n",
       "      <td>1</td>\n",
       "      <td>5</td>\n",
       "      <td>1</td>\n",
       "      <td>1</td>\n",
       "      <td>1</td>\n",
       "      <td>18</td>\n",
       "      <td>1</td>\n",
       "      <td>0</td>\n",
       "      <td>0</td>\n",
       "      <td>0</td>\n",
       "      <td>0</td>\n",
       "      <td>0</td>\n",
       "      <td>1</td>\n",
       "      <td>0.0</td>\n",
       "    </tr>\n",
       "    <tr>\n",
       "      <th>1</th>\n",
       "      <td>female</td>\n",
       "      <td>50 &lt;= AGE &lt;= 54</td>\n",
       "      <td>graduated college or technical school</td>\n",
       "      <td>&lt;15k</td>\n",
       "      <td>0</td>\n",
       "      <td>1</td>\n",
       "      <td>0</td>\n",
       "      <td>25</td>\n",
       "      <td>0</td>\n",
       "      <td>3</td>\n",
       "      <td>0</td>\n",
       "      <td>0</td>\n",
       "      <td>0</td>\n",
       "      <td>0</td>\n",
       "      <td>0</td>\n",
       "      <td>0</td>\n",
       "      <td>0</td>\n",
       "      <td>1</td>\n",
       "      <td>0</td>\n",
       "      <td>1</td>\n",
       "      <td>0</td>\n",
       "      <td>0.0</td>\n",
       "    </tr>\n",
       "    <tr>\n",
       "      <th>2</th>\n",
       "      <td>female</td>\n",
       "      <td>60 &lt;= AGE &lt;= 64</td>\n",
       "      <td>graduated high school</td>\n",
       "      <td>&gt;=50k</td>\n",
       "      <td>30</td>\n",
       "      <td>0</td>\n",
       "      <td>0</td>\n",
       "      <td>28</td>\n",
       "      <td>1</td>\n",
       "      <td>5</td>\n",
       "      <td>1</td>\n",
       "      <td>1</td>\n",
       "      <td>1</td>\n",
       "      <td>30</td>\n",
       "      <td>0</td>\n",
       "      <td>0</td>\n",
       "      <td>1</td>\n",
       "      <td>0</td>\n",
       "      <td>0</td>\n",
       "      <td>1</td>\n",
       "      <td>1</td>\n",
       "      <td>0.0</td>\n",
       "    </tr>\n",
       "    <tr>\n",
       "      <th>3</th>\n",
       "      <td>female</td>\n",
       "      <td>70 &lt;= AGE &lt;= 74</td>\n",
       "      <td>Didn’t graduate high school</td>\n",
       "      <td>35k to &lt;50k</td>\n",
       "      <td>0</td>\n",
       "      <td>0</td>\n",
       "      <td>0</td>\n",
       "      <td>27</td>\n",
       "      <td>0</td>\n",
       "      <td>2</td>\n",
       "      <td>1</td>\n",
       "      <td>0</td>\n",
       "      <td>1</td>\n",
       "      <td>0</td>\n",
       "      <td>1</td>\n",
       "      <td>0</td>\n",
       "      <td>1</td>\n",
       "      <td>1</td>\n",
       "      <td>0</td>\n",
       "      <td>0</td>\n",
       "      <td>1</td>\n",
       "      <td>0.0</td>\n",
       "    </tr>\n",
       "    <tr>\n",
       "      <th>4</th>\n",
       "      <td>female</td>\n",
       "      <td>70 &lt;= AGE &lt;= 74</td>\n",
       "      <td>attended college or technical school</td>\n",
       "      <td>15k to &lt;25k</td>\n",
       "      <td>0</td>\n",
       "      <td>0</td>\n",
       "      <td>0</td>\n",
       "      <td>24</td>\n",
       "      <td>0</td>\n",
       "      <td>2</td>\n",
       "      <td>1</td>\n",
       "      <td>1</td>\n",
       "      <td>1</td>\n",
       "      <td>3</td>\n",
       "      <td>1</td>\n",
       "      <td>0</td>\n",
       "      <td>1</td>\n",
       "      <td>1</td>\n",
       "      <td>0</td>\n",
       "      <td>0</td>\n",
       "      <td>1</td>\n",
       "      <td>0.0</td>\n",
       "    </tr>\n",
       "  </tbody>\n",
       "</table>\n",
       "</div>"
      ],
      "text/plain": [
       "      sex              age  ... anyhealthcare diabetes_binary\n",
       "0  female  60 <= AGE <= 64  ...             1             0.0\n",
       "1  female  50 <= AGE <= 54  ...             0             0.0\n",
       "2  female  60 <= AGE <= 64  ...             1             0.0\n",
       "3  female  70 <= AGE <= 74  ...             1             0.0\n",
       "4  female  70 <= AGE <= 74  ...             1             0.0\n",
       "\n",
       "[5 rows x 22 columns]"
      ]
     },
     "execution_count": 84,
     "metadata": {},
     "output_type": "execute_result"
    }
   ],
   "source": [
    "# Making sure it worked\n",
    "\n",
    "clean_df.head()"
   ]
  },
  {
   "cell_type": "code",
   "execution_count": 85,
   "id": "4323c09c-2e80-439b-bda2-dcb5104315db",
   "metadata": {
    "executionTime": 1322,
    "lastSuccessfullyExecutedCode": "# Excellent! Let's save this so we don't have to run the cleaning again\n\n#clean_df.to_csv(r'C:\\Users\\Liberty\\Desktop\\Master School\\Capstone Project 2\\diabetes_indicators_clean.csv', index=False, header=True)\nclean_df.to_csv(\"diabetes_indicators_clean.csv\", index=False, header=True)"
   },
   "outputs": [],
   "source": [
    "# Excellent! Let's save this so we don't have to run the cleaning again\n",
    "\n",
    "#clean_df.to_csv(r'C:\\Users\\Liberty\\Desktop\\Master School\\Capstone Project 2\\diabetes_indicators_clean.csv', index=False, header=True)\n",
    "clean_df.to_csv(\"diabetes_indicators_clean.csv\", index=False, header=True)"
   ]
  },
  {
   "cell_type": "code",
   "execution_count": 2,
   "id": "dd57c786-f91e-417a-a823-70217069946f",
   "metadata": {
    "executionTime": 445,
    "lastSuccessfullyExecutedCode": "df=pd.read_csv(\"diabetes_indicators_clean.csv\")"
   },
   "outputs": [],
   "source": [
    "df=pd.read_csv(\"diabetes_indicators_clean.csv\")"
   ]
  },
  {
   "cell_type": "code",
   "execution_count": 3,
   "id": "164986ce-ab8e-4946-860b-a73ee8693408",
   "metadata": {
    "executionTime": 221,
    "lastSuccessfullyExecutedCode": "df.head()"
   },
   "outputs": [
    {
     "data": {
      "application/com.datacamp.data-table.v1+json": {
       "table": {
        "data": [
         {
          "age": "60 <= AGE <= 64",
          "anyhealthcare": 1,
          "bmi": 40,
          "cholcheck": 1,
          "diabetes_binary": 0,
          "diffwalk": 1,
          "education": "graduated high school",
          "fruits": 0,
          "genhlth": 5,
          "heartdiseaseorattack": 0,
          "highbp": 1,
          "highchol": 1,
          "hvyalcoholconsump": 0,
          "income": "15k to <25k",
          "index": 0,
          "menthlth": 18,
          "nodocbccost": 0,
          "physactivity": 0,
          "physhlth": 15,
          "sex": "female",
          "smoker": 1,
          "stroke": 0,
          "veggies": 1
         },
         {
          "age": "50 <= AGE <= 54",
          "anyhealthcare": 0,
          "bmi": 25,
          "cholcheck": 0,
          "diabetes_binary": 0,
          "diffwalk": 0,
          "education": "graduated college or technical school",
          "fruits": 0,
          "genhlth": 3,
          "heartdiseaseorattack": 0,
          "highbp": 0,
          "highchol": 0,
          "hvyalcoholconsump": 0,
          "income": "<15k",
          "index": 1,
          "menthlth": 0,
          "nodocbccost": 1,
          "physactivity": 1,
          "physhlth": 0,
          "sex": "female",
          "smoker": 1,
          "stroke": 0,
          "veggies": 0
         },
         {
          "age": "60 <= AGE <= 64",
          "anyhealthcare": 1,
          "bmi": 28,
          "cholcheck": 1,
          "diabetes_binary": 0,
          "diffwalk": 1,
          "education": "graduated high school",
          "fruits": 1,
          "genhlth": 5,
          "heartdiseaseorattack": 0,
          "highbp": 1,
          "highchol": 1,
          "hvyalcoholconsump": 0,
          "income": ">=50k",
          "index": 2,
          "menthlth": 30,
          "nodocbccost": 1,
          "physactivity": 0,
          "physhlth": 30,
          "sex": "female",
          "smoker": 0,
          "stroke": 0,
          "veggies": 0
         },
         {
          "age": "70 <= AGE <= 74",
          "anyhealthcare": 1,
          "bmi": 27,
          "cholcheck": 1,
          "diabetes_binary": 0,
          "diffwalk": 0,
          "education": "Didn’t graduate high school",
          "fruits": 1,
          "genhlth": 2,
          "heartdiseaseorattack": 0,
          "highbp": 1,
          "highchol": 0,
          "hvyalcoholconsump": 0,
          "income": "35k to <50k",
          "index": 3,
          "menthlth": 0,
          "nodocbccost": 0,
          "physactivity": 1,
          "physhlth": 0,
          "sex": "female",
          "smoker": 0,
          "stroke": 0,
          "veggies": 1
         },
         {
          "age": "70 <= AGE <= 74",
          "anyhealthcare": 1,
          "bmi": 24,
          "cholcheck": 1,
          "diabetes_binary": 0,
          "diffwalk": 0,
          "education": "attended college or technical school",
          "fruits": 1,
          "genhlth": 2,
          "heartdiseaseorattack": 0,
          "highbp": 1,
          "highchol": 1,
          "hvyalcoholconsump": 0,
          "income": "15k to <25k",
          "index": 4,
          "menthlth": 3,
          "nodocbccost": 0,
          "physactivity": 1,
          "physhlth": 0,
          "sex": "female",
          "smoker": 0,
          "stroke": 0,
          "veggies": 1
         }
        ],
        "schema": {
         "fields": [
          {
           "name": "index",
           "type": "integer"
          },
          {
           "name": "sex",
           "type": "string"
          },
          {
           "name": "age",
           "type": "string"
          },
          {
           "name": "education",
           "type": "string"
          },
          {
           "name": "income",
           "type": "string"
          },
          {
           "name": "physhlth",
           "type": "integer"
          },
          {
           "name": "smoker",
           "type": "integer"
          },
          {
           "name": "heartdiseaseorattack",
           "type": "integer"
          },
          {
           "name": "bmi",
           "type": "integer"
          },
          {
           "name": "diffwalk",
           "type": "integer"
          },
          {
           "name": "genhlth",
           "type": "integer"
          },
          {
           "name": "highbp",
           "type": "integer"
          },
          {
           "name": "highchol",
           "type": "integer"
          },
          {
           "name": "cholcheck",
           "type": "integer"
          },
          {
           "name": "menthlth",
           "type": "integer"
          },
          {
           "name": "veggies",
           "type": "integer"
          },
          {
           "name": "stroke",
           "type": "integer"
          },
          {
           "name": "fruits",
           "type": "integer"
          },
          {
           "name": "physactivity",
           "type": "integer"
          },
          {
           "name": "hvyalcoholconsump",
           "type": "integer"
          },
          {
           "name": "nodocbccost",
           "type": "integer"
          },
          {
           "name": "anyhealthcare",
           "type": "integer"
          },
          {
           "name": "diabetes_binary",
           "type": "number"
          }
         ],
         "pandas_version": "1.4.0",
         "primaryKey": [
          "index"
         ]
        }
       },
       "total_rows": 5,
       "truncation_type": null
      },
      "text/html": [
       "<div>\n",
       "<style scoped>\n",
       "    .dataframe tbody tr th:only-of-type {\n",
       "        vertical-align: middle;\n",
       "    }\n",
       "\n",
       "    .dataframe tbody tr th {\n",
       "        vertical-align: top;\n",
       "    }\n",
       "\n",
       "    .dataframe thead th {\n",
       "        text-align: right;\n",
       "    }\n",
       "</style>\n",
       "<table border=\"1\" class=\"dataframe\">\n",
       "  <thead>\n",
       "    <tr style=\"text-align: right;\">\n",
       "      <th></th>\n",
       "      <th>sex</th>\n",
       "      <th>age</th>\n",
       "      <th>education</th>\n",
       "      <th>income</th>\n",
       "      <th>physhlth</th>\n",
       "      <th>smoker</th>\n",
       "      <th>heartdiseaseorattack</th>\n",
       "      <th>bmi</th>\n",
       "      <th>diffwalk</th>\n",
       "      <th>genhlth</th>\n",
       "      <th>highbp</th>\n",
       "      <th>highchol</th>\n",
       "      <th>cholcheck</th>\n",
       "      <th>menthlth</th>\n",
       "      <th>veggies</th>\n",
       "      <th>stroke</th>\n",
       "      <th>fruits</th>\n",
       "      <th>physactivity</th>\n",
       "      <th>hvyalcoholconsump</th>\n",
       "      <th>nodocbccost</th>\n",
       "      <th>anyhealthcare</th>\n",
       "      <th>diabetes_binary</th>\n",
       "    </tr>\n",
       "  </thead>\n",
       "  <tbody>\n",
       "    <tr>\n",
       "      <th>0</th>\n",
       "      <td>female</td>\n",
       "      <td>60 &lt;= AGE &lt;= 64</td>\n",
       "      <td>graduated high school</td>\n",
       "      <td>15k to &lt;25k</td>\n",
       "      <td>15</td>\n",
       "      <td>1</td>\n",
       "      <td>0</td>\n",
       "      <td>40</td>\n",
       "      <td>1</td>\n",
       "      <td>5</td>\n",
       "      <td>1</td>\n",
       "      <td>1</td>\n",
       "      <td>1</td>\n",
       "      <td>18</td>\n",
       "      <td>1</td>\n",
       "      <td>0</td>\n",
       "      <td>0</td>\n",
       "      <td>0</td>\n",
       "      <td>0</td>\n",
       "      <td>0</td>\n",
       "      <td>1</td>\n",
       "      <td>0.0</td>\n",
       "    </tr>\n",
       "    <tr>\n",
       "      <th>1</th>\n",
       "      <td>female</td>\n",
       "      <td>50 &lt;= AGE &lt;= 54</td>\n",
       "      <td>graduated college or technical school</td>\n",
       "      <td>&lt;15k</td>\n",
       "      <td>0</td>\n",
       "      <td>1</td>\n",
       "      <td>0</td>\n",
       "      <td>25</td>\n",
       "      <td>0</td>\n",
       "      <td>3</td>\n",
       "      <td>0</td>\n",
       "      <td>0</td>\n",
       "      <td>0</td>\n",
       "      <td>0</td>\n",
       "      <td>0</td>\n",
       "      <td>0</td>\n",
       "      <td>0</td>\n",
       "      <td>1</td>\n",
       "      <td>0</td>\n",
       "      <td>1</td>\n",
       "      <td>0</td>\n",
       "      <td>0.0</td>\n",
       "    </tr>\n",
       "    <tr>\n",
       "      <th>2</th>\n",
       "      <td>female</td>\n",
       "      <td>60 &lt;= AGE &lt;= 64</td>\n",
       "      <td>graduated high school</td>\n",
       "      <td>&gt;=50k</td>\n",
       "      <td>30</td>\n",
       "      <td>0</td>\n",
       "      <td>0</td>\n",
       "      <td>28</td>\n",
       "      <td>1</td>\n",
       "      <td>5</td>\n",
       "      <td>1</td>\n",
       "      <td>1</td>\n",
       "      <td>1</td>\n",
       "      <td>30</td>\n",
       "      <td>0</td>\n",
       "      <td>0</td>\n",
       "      <td>1</td>\n",
       "      <td>0</td>\n",
       "      <td>0</td>\n",
       "      <td>1</td>\n",
       "      <td>1</td>\n",
       "      <td>0.0</td>\n",
       "    </tr>\n",
       "    <tr>\n",
       "      <th>3</th>\n",
       "      <td>female</td>\n",
       "      <td>70 &lt;= AGE &lt;= 74</td>\n",
       "      <td>Didn’t graduate high school</td>\n",
       "      <td>35k to &lt;50k</td>\n",
       "      <td>0</td>\n",
       "      <td>0</td>\n",
       "      <td>0</td>\n",
       "      <td>27</td>\n",
       "      <td>0</td>\n",
       "      <td>2</td>\n",
       "      <td>1</td>\n",
       "      <td>0</td>\n",
       "      <td>1</td>\n",
       "      <td>0</td>\n",
       "      <td>1</td>\n",
       "      <td>0</td>\n",
       "      <td>1</td>\n",
       "      <td>1</td>\n",
       "      <td>0</td>\n",
       "      <td>0</td>\n",
       "      <td>1</td>\n",
       "      <td>0.0</td>\n",
       "    </tr>\n",
       "    <tr>\n",
       "      <th>4</th>\n",
       "      <td>female</td>\n",
       "      <td>70 &lt;= AGE &lt;= 74</td>\n",
       "      <td>attended college or technical school</td>\n",
       "      <td>15k to &lt;25k</td>\n",
       "      <td>0</td>\n",
       "      <td>0</td>\n",
       "      <td>0</td>\n",
       "      <td>24</td>\n",
       "      <td>0</td>\n",
       "      <td>2</td>\n",
       "      <td>1</td>\n",
       "      <td>1</td>\n",
       "      <td>1</td>\n",
       "      <td>3</td>\n",
       "      <td>1</td>\n",
       "      <td>0</td>\n",
       "      <td>1</td>\n",
       "      <td>1</td>\n",
       "      <td>0</td>\n",
       "      <td>0</td>\n",
       "      <td>1</td>\n",
       "      <td>0.0</td>\n",
       "    </tr>\n",
       "  </tbody>\n",
       "</table>\n",
       "</div>"
      ],
      "text/plain": [
       "      sex              age  ... anyhealthcare diabetes_binary\n",
       "0  female  60 <= AGE <= 64  ...             1             0.0\n",
       "1  female  50 <= AGE <= 54  ...             0             0.0\n",
       "2  female  60 <= AGE <= 64  ...             1             0.0\n",
       "3  female  70 <= AGE <= 74  ...             1             0.0\n",
       "4  female  70 <= AGE <= 74  ...             1             0.0\n",
       "\n",
       "[5 rows x 22 columns]"
      ]
     },
     "execution_count": 3,
     "metadata": {},
     "output_type": "execute_result"
    }
   ],
   "source": [
    "df.head()"
   ]
  },
  {
   "cell_type": "markdown",
   "id": "25c4279b-687c-453f-b34a-60a29f8dd1ff",
   "metadata": {},
   "source": [
    "### Outliers Detection\n",
    "\n",
    "> Since the majority of the values are yes/no and the one's that aren't are identifiers we wouldn't want to remove, there is no need to detect outliers."
   ]
  },
  {
   "cell_type": "markdown",
   "id": "832d7589-b844-46ad-90d4-f9ae1df5fe40",
   "metadata": {},
   "source": [
    "## Exploratory Data Analysis"
   ]
  },
  {
   "cell_type": "code",
   "execution_count": 88,
   "id": "43ffb0a3-43f4-4ebc-81b9-19eecc4a3136",
   "metadata": {
    "executionTime": 153,
    "lastSuccessfullyExecutedCode": "df.describe()"
   },
   "outputs": [
    {
     "data": {
      "application/com.datacamp.data-table.v1+json": {
       "table": {
        "data": [
         {
          "anyhealthcare": 253680,
          "bmi": 253680,
          "cholcheck": 253680,
          "diabetes_binary": 253680,
          "diffwalk": 253680,
          "fruits": 253680,
          "genhlth": 253680,
          "heartdiseaseorattack": 253680,
          "highbp": 253680,
          "highchol": 253680,
          "hvyalcoholconsump": 253680,
          "index": "count",
          "menthlth": 253680,
          "nodocbccost": 253680,
          "physactivity": 253680,
          "physhlth": 253680,
          "smoker": 253680,
          "stroke": 253680,
          "veggies": 253680
         },
         {
          "anyhealthcare": 0.9510525071,
          "bmi": 28.3823636077,
          "cholcheck": 0.9626695049,
          "diabetes_binary": 0.139333018,
          "diffwalk": 0.1682237465,
          "fruits": 0.6342557553,
          "genhlth": 2.5113923053,
          "heartdiseaseorattack": 0.0941855881,
          "highbp": 0.4290011038,
          "highchol": 0.4241209398,
          "hvyalcoholconsump": 0.0561967833,
          "index": "mean",
          "menthlth": 3.1847721539,
          "nodocbccost": 0.0841769158,
          "physactivity": 0.7565436771,
          "physhlth": 4.242080574,
          "smoker": 0.4431685588,
          "stroke": 0.0405707979,
          "veggies": 0.8114198991
         },
         {
          "anyhealthcare": 0.2157587063,
          "bmi": 6.6086942014,
          "cholcheck": 0.1895707544,
          "diabetes_binary": 0.3462943846,
          "diffwalk": 0.3740655947,
          "fruits": 0.4816391872,
          "genhlth": 1.0684773623,
          "heartdiseaseorattack": 0.2920873148,
          "highbp": 0.4949344627,
          "highchol": 0.4942098047,
          "hvyalcoholconsump": 0.2303017889,
          "index": "std",
          "menthlth": 7.4128466962,
          "nodocbccost": 0.2776535009,
          "physactivity": 0.4291690434,
          "physhlth": 8.7179513072,
          "smoker": 0.4967606668,
          "stroke": 0.1972940994,
          "veggies": 0.3911754717
         },
         {
          "anyhealthcare": 0,
          "bmi": 12,
          "cholcheck": 0,
          "diabetes_binary": 0,
          "diffwalk": 0,
          "fruits": 0,
          "genhlth": 1,
          "heartdiseaseorattack": 0,
          "highbp": 0,
          "highchol": 0,
          "hvyalcoholconsump": 0,
          "index": "min",
          "menthlth": 0,
          "nodocbccost": 0,
          "physactivity": 0,
          "physhlth": 0,
          "smoker": 0,
          "stroke": 0,
          "veggies": 0
         },
         {
          "anyhealthcare": 1,
          "bmi": 24,
          "cholcheck": 1,
          "diabetes_binary": 0,
          "diffwalk": 0,
          "fruits": 0,
          "genhlth": 2,
          "heartdiseaseorattack": 0,
          "highbp": 0,
          "highchol": 0,
          "hvyalcoholconsump": 0,
          "index": "25%",
          "menthlth": 0,
          "nodocbccost": 0,
          "physactivity": 1,
          "physhlth": 0,
          "smoker": 0,
          "stroke": 0,
          "veggies": 1
         },
         {
          "anyhealthcare": 1,
          "bmi": 27,
          "cholcheck": 1,
          "diabetes_binary": 0,
          "diffwalk": 0,
          "fruits": 1,
          "genhlth": 2,
          "heartdiseaseorattack": 0,
          "highbp": 0,
          "highchol": 0,
          "hvyalcoholconsump": 0,
          "index": "50%",
          "menthlth": 0,
          "nodocbccost": 0,
          "physactivity": 1,
          "physhlth": 0,
          "smoker": 0,
          "stroke": 0,
          "veggies": 1
         },
         {
          "anyhealthcare": 1,
          "bmi": 31,
          "cholcheck": 1,
          "diabetes_binary": 0,
          "diffwalk": 0,
          "fruits": 1,
          "genhlth": 3,
          "heartdiseaseorattack": 0,
          "highbp": 1,
          "highchol": 1,
          "hvyalcoholconsump": 0,
          "index": "75%",
          "menthlth": 2,
          "nodocbccost": 0,
          "physactivity": 1,
          "physhlth": 3,
          "smoker": 1,
          "stroke": 0,
          "veggies": 1
         },
         {
          "anyhealthcare": 1,
          "bmi": 98,
          "cholcheck": 1,
          "diabetes_binary": 1,
          "diffwalk": 1,
          "fruits": 1,
          "genhlth": 5,
          "heartdiseaseorattack": 1,
          "highbp": 1,
          "highchol": 1,
          "hvyalcoholconsump": 1,
          "index": "max",
          "menthlth": 30,
          "nodocbccost": 1,
          "physactivity": 1,
          "physhlth": 30,
          "smoker": 1,
          "stroke": 1,
          "veggies": 1
         }
        ],
        "schema": {
         "fields": [
          {
           "name": "index",
           "type": "string"
          },
          {
           "name": "physhlth",
           "type": "number"
          },
          {
           "name": "smoker",
           "type": "number"
          },
          {
           "name": "heartdiseaseorattack",
           "type": "number"
          },
          {
           "name": "bmi",
           "type": "number"
          },
          {
           "name": "diffwalk",
           "type": "number"
          },
          {
           "name": "genhlth",
           "type": "number"
          },
          {
           "name": "highbp",
           "type": "number"
          },
          {
           "name": "highchol",
           "type": "number"
          },
          {
           "name": "cholcheck",
           "type": "number"
          },
          {
           "name": "menthlth",
           "type": "number"
          },
          {
           "name": "veggies",
           "type": "number"
          },
          {
           "name": "stroke",
           "type": "number"
          },
          {
           "name": "fruits",
           "type": "number"
          },
          {
           "name": "physactivity",
           "type": "number"
          },
          {
           "name": "hvyalcoholconsump",
           "type": "number"
          },
          {
           "name": "nodocbccost",
           "type": "number"
          },
          {
           "name": "anyhealthcare",
           "type": "number"
          },
          {
           "name": "diabetes_binary",
           "type": "number"
          }
         ],
         "pandas_version": "1.4.0",
         "primaryKey": [
          "index"
         ]
        }
       },
       "total_rows": 8,
       "truncation_type": null
      },
      "text/html": [
       "<div>\n",
       "<style scoped>\n",
       "    .dataframe tbody tr th:only-of-type {\n",
       "        vertical-align: middle;\n",
       "    }\n",
       "\n",
       "    .dataframe tbody tr th {\n",
       "        vertical-align: top;\n",
       "    }\n",
       "\n",
       "    .dataframe thead th {\n",
       "        text-align: right;\n",
       "    }\n",
       "</style>\n",
       "<table border=\"1\" class=\"dataframe\">\n",
       "  <thead>\n",
       "    <tr style=\"text-align: right;\">\n",
       "      <th></th>\n",
       "      <th>physhlth</th>\n",
       "      <th>smoker</th>\n",
       "      <th>heartdiseaseorattack</th>\n",
       "      <th>bmi</th>\n",
       "      <th>diffwalk</th>\n",
       "      <th>genhlth</th>\n",
       "      <th>highbp</th>\n",
       "      <th>highchol</th>\n",
       "      <th>cholcheck</th>\n",
       "      <th>menthlth</th>\n",
       "      <th>veggies</th>\n",
       "      <th>stroke</th>\n",
       "      <th>fruits</th>\n",
       "      <th>physactivity</th>\n",
       "      <th>hvyalcoholconsump</th>\n",
       "      <th>nodocbccost</th>\n",
       "      <th>anyhealthcare</th>\n",
       "      <th>diabetes_binary</th>\n",
       "    </tr>\n",
       "  </thead>\n",
       "  <tbody>\n",
       "    <tr>\n",
       "      <th>count</th>\n",
       "      <td>253680.000000</td>\n",
       "      <td>253680.000000</td>\n",
       "      <td>253680.000000</td>\n",
       "      <td>253680.000000</td>\n",
       "      <td>253680.000000</td>\n",
       "      <td>253680.000000</td>\n",
       "      <td>253680.000000</td>\n",
       "      <td>253680.000000</td>\n",
       "      <td>253680.000000</td>\n",
       "      <td>253680.000000</td>\n",
       "      <td>253680.000000</td>\n",
       "      <td>253680.000000</td>\n",
       "      <td>253680.000000</td>\n",
       "      <td>253680.000000</td>\n",
       "      <td>253680.000000</td>\n",
       "      <td>253680.000000</td>\n",
       "      <td>253680.000000</td>\n",
       "      <td>253680.000000</td>\n",
       "    </tr>\n",
       "    <tr>\n",
       "      <th>mean</th>\n",
       "      <td>4.242081</td>\n",
       "      <td>0.443169</td>\n",
       "      <td>0.094186</td>\n",
       "      <td>28.382364</td>\n",
       "      <td>0.168224</td>\n",
       "      <td>2.511392</td>\n",
       "      <td>0.429001</td>\n",
       "      <td>0.424121</td>\n",
       "      <td>0.962670</td>\n",
       "      <td>3.184772</td>\n",
       "      <td>0.811420</td>\n",
       "      <td>0.040571</td>\n",
       "      <td>0.634256</td>\n",
       "      <td>0.756544</td>\n",
       "      <td>0.056197</td>\n",
       "      <td>0.084177</td>\n",
       "      <td>0.951053</td>\n",
       "      <td>0.139333</td>\n",
       "    </tr>\n",
       "    <tr>\n",
       "      <th>std</th>\n",
       "      <td>8.717951</td>\n",
       "      <td>0.496761</td>\n",
       "      <td>0.292087</td>\n",
       "      <td>6.608694</td>\n",
       "      <td>0.374066</td>\n",
       "      <td>1.068477</td>\n",
       "      <td>0.494934</td>\n",
       "      <td>0.494210</td>\n",
       "      <td>0.189571</td>\n",
       "      <td>7.412847</td>\n",
       "      <td>0.391175</td>\n",
       "      <td>0.197294</td>\n",
       "      <td>0.481639</td>\n",
       "      <td>0.429169</td>\n",
       "      <td>0.230302</td>\n",
       "      <td>0.277654</td>\n",
       "      <td>0.215759</td>\n",
       "      <td>0.346294</td>\n",
       "    </tr>\n",
       "    <tr>\n",
       "      <th>min</th>\n",
       "      <td>0.000000</td>\n",
       "      <td>0.000000</td>\n",
       "      <td>0.000000</td>\n",
       "      <td>12.000000</td>\n",
       "      <td>0.000000</td>\n",
       "      <td>1.000000</td>\n",
       "      <td>0.000000</td>\n",
       "      <td>0.000000</td>\n",
       "      <td>0.000000</td>\n",
       "      <td>0.000000</td>\n",
       "      <td>0.000000</td>\n",
       "      <td>0.000000</td>\n",
       "      <td>0.000000</td>\n",
       "      <td>0.000000</td>\n",
       "      <td>0.000000</td>\n",
       "      <td>0.000000</td>\n",
       "      <td>0.000000</td>\n",
       "      <td>0.000000</td>\n",
       "    </tr>\n",
       "    <tr>\n",
       "      <th>25%</th>\n",
       "      <td>0.000000</td>\n",
       "      <td>0.000000</td>\n",
       "      <td>0.000000</td>\n",
       "      <td>24.000000</td>\n",
       "      <td>0.000000</td>\n",
       "      <td>2.000000</td>\n",
       "      <td>0.000000</td>\n",
       "      <td>0.000000</td>\n",
       "      <td>1.000000</td>\n",
       "      <td>0.000000</td>\n",
       "      <td>1.000000</td>\n",
       "      <td>0.000000</td>\n",
       "      <td>0.000000</td>\n",
       "      <td>1.000000</td>\n",
       "      <td>0.000000</td>\n",
       "      <td>0.000000</td>\n",
       "      <td>1.000000</td>\n",
       "      <td>0.000000</td>\n",
       "    </tr>\n",
       "    <tr>\n",
       "      <th>50%</th>\n",
       "      <td>0.000000</td>\n",
       "      <td>0.000000</td>\n",
       "      <td>0.000000</td>\n",
       "      <td>27.000000</td>\n",
       "      <td>0.000000</td>\n",
       "      <td>2.000000</td>\n",
       "      <td>0.000000</td>\n",
       "      <td>0.000000</td>\n",
       "      <td>1.000000</td>\n",
       "      <td>0.000000</td>\n",
       "      <td>1.000000</td>\n",
       "      <td>0.000000</td>\n",
       "      <td>1.000000</td>\n",
       "      <td>1.000000</td>\n",
       "      <td>0.000000</td>\n",
       "      <td>0.000000</td>\n",
       "      <td>1.000000</td>\n",
       "      <td>0.000000</td>\n",
       "    </tr>\n",
       "    <tr>\n",
       "      <th>75%</th>\n",
       "      <td>3.000000</td>\n",
       "      <td>1.000000</td>\n",
       "      <td>0.000000</td>\n",
       "      <td>31.000000</td>\n",
       "      <td>0.000000</td>\n",
       "      <td>3.000000</td>\n",
       "      <td>1.000000</td>\n",
       "      <td>1.000000</td>\n",
       "      <td>1.000000</td>\n",
       "      <td>2.000000</td>\n",
       "      <td>1.000000</td>\n",
       "      <td>0.000000</td>\n",
       "      <td>1.000000</td>\n",
       "      <td>1.000000</td>\n",
       "      <td>0.000000</td>\n",
       "      <td>0.000000</td>\n",
       "      <td>1.000000</td>\n",
       "      <td>0.000000</td>\n",
       "    </tr>\n",
       "    <tr>\n",
       "      <th>max</th>\n",
       "      <td>30.000000</td>\n",
       "      <td>1.000000</td>\n",
       "      <td>1.000000</td>\n",
       "      <td>98.000000</td>\n",
       "      <td>1.000000</td>\n",
       "      <td>5.000000</td>\n",
       "      <td>1.000000</td>\n",
       "      <td>1.000000</td>\n",
       "      <td>1.000000</td>\n",
       "      <td>30.000000</td>\n",
       "      <td>1.000000</td>\n",
       "      <td>1.000000</td>\n",
       "      <td>1.000000</td>\n",
       "      <td>1.000000</td>\n",
       "      <td>1.000000</td>\n",
       "      <td>1.000000</td>\n",
       "      <td>1.000000</td>\n",
       "      <td>1.000000</td>\n",
       "    </tr>\n",
       "  </tbody>\n",
       "</table>\n",
       "</div>"
      ],
      "text/plain": [
       "            physhlth         smoker  ...  anyhealthcare  diabetes_binary\n",
       "count  253680.000000  253680.000000  ...  253680.000000    253680.000000\n",
       "mean        4.242081       0.443169  ...       0.951053         0.139333\n",
       "std         8.717951       0.496761  ...       0.215759         0.346294\n",
       "min         0.000000       0.000000  ...       0.000000         0.000000\n",
       "25%         0.000000       0.000000  ...       1.000000         0.000000\n",
       "50%         0.000000       0.000000  ...       1.000000         0.000000\n",
       "75%         3.000000       1.000000  ...       1.000000         0.000000\n",
       "max        30.000000       1.000000  ...       1.000000         1.000000\n",
       "\n",
       "[8 rows x 18 columns]"
      ]
     },
     "execution_count": 88,
     "metadata": {},
     "output_type": "execute_result"
    }
   ],
   "source": [
    "df.describe()"
   ]
  },
  {
   "cell_type": "code",
   "execution_count": 48,
   "id": "54ae67af-7f0e-4868-8ddc-07ba2a2f241f",
   "metadata": {
    "executionTime": 47,
    "lastSuccessfullyExecutedCode": "df.columns"
   },
   "outputs": [
    {
     "data": {
      "text/plain": [
       "Index(['sex', 'age', 'education', 'income', 'physhlth', 'smoker',\n",
       "       'heartdiseaseorattack', 'bmi', 'diffwalk', 'genhlth', 'highbp',\n",
       "       'highchol', 'cholcheck', 'menthlth', 'veggies', 'stroke', 'fruits',\n",
       "       'physactivity', 'hvyalcoholconsump', 'nodocbccost', 'anyhealthcare',\n",
       "       'diabetes_binary'],\n",
       "      dtype='object')"
      ]
     },
     "execution_count": 48,
     "metadata": {},
     "output_type": "execute_result"
    }
   ],
   "source": [
    "df.columns"
   ]
  },
  {
   "cell_type": "code",
   "execution_count": 99,
   "id": "9bd8dbf2-2bee-4c5d-8572-e47eb7fefdf2",
   "metadata": {
    "executionTime": 4630,
    "lastSuccessfullyExecutedCode": "fig, axes = plt.subplots(5, 3, figsize=(15,20))\n\nax4 = sns.histplot(x=\"physhlth\", data=df, ax=axes[0,0])\nax5 = sns.countplot(x=\"smoker\", data=df, ax=axes[0,1])\nax6 = sns.countplot(x=\"heartdiseaseorattack\", data=df, ax=axes[0,2])\nax7 = sns.countplot(x=\"cholcheck\", data=df, ax=axes[1,0])\nax8 = sns.histplot(x=\"menthlth\", data=df, ax=axes[1,1])\nax9 = sns.countplot(x=\"veggies\", data=df, ax=axes[1,2])\nax10 = sns.countplot(x=\"stroke\", data=df, ax=axes[2,0])\nax11 = sns.countplot(x=\"fruits\", data=df, ax=axes[2,1])\nax12 = sns.countplot(x=\"physactivity\", data=df, ax=axes[2,2])\nax13 = sns.countplot(x=\"hvyalcoholconsump\", data=df, ax=axes[3,0])\nax14 = sns.countplot(x=\"nodocbccost\", data=df, ax=axes[3,1])\nax15 = sns.countplot(x=\"anyhealthcare\", data=df, ax=axes[3,2])\nax16 = sns.countplot(x=\"diabetes_binary\", data=df, ax=axes[4,0])\nax17 = sns.countplot(x=\"sex\", data=df, ax=axes[4,1])\nax18 = sns.histplot(x=\"bmi\", data=df, ax=axes[4,2])"
   },
   "outputs": [
    {
     "data": {
      "image/png": "[encoded data removed]",
      "text/plain": [
       "<Figure size 1500x2000 with 15 Axes>"
      ]
     },
     "metadata": {},
     "output_type": "display_data"
    }
   ],
   "source": [
    "fig, axes = plt.subplots(5, 3, figsize=(15,20))\n",
    "\n",
    "ax4 = sns.histplot(x=\"physhlth\", data=df, ax=axes[0,0])\n",
    "ax5 = sns.countplot(x=\"smoker\", data=df, ax=axes[0,1])\n",
    "ax6 = sns.countplot(x=\"heartdiseaseorattack\", data=df, ax=axes[0,2])\n",
    "ax7 = sns.countplot(x=\"cholcheck\", data=df, ax=axes[1,0])\n",
    "ax8 = sns.histplot(x=\"menthlth\", data=df, ax=axes[1,1])\n",
    "ax9 = sns.countplot(x=\"veggies\", data=df, ax=axes[1,2])\n",
    "ax10 = sns.countplot(x=\"stroke\", data=df, ax=axes[2,0])\n",
    "ax11 = sns.countplot(x=\"fruits\", data=df, ax=axes[2,1])\n",
    "ax12 = sns.countplot(x=\"physactivity\", data=df, ax=axes[2,2])\n",
    "ax13 = sns.countplot(x=\"hvyalcoholconsump\", data=df, ax=axes[3,0])\n",
    "ax14 = sns.countplot(x=\"nodocbccost\", data=df, ax=axes[3,1])\n",
    "ax15 = sns.countplot(x=\"anyhealthcare\", data=df, ax=axes[3,2])\n",
    "ax16 = sns.countplot(x=\"diabetes_binary\", data=df, ax=axes[4,0])\n",
    "ax17 = sns.countplot(x=\"sex\", data=df, ax=axes[4,1])\n",
    "ax18 = sns.histplot(x=\"bmi\", data=df, ax=axes[4,2])"
   ]
  },
  {
   "cell_type": "code",
   "execution_count": 97,
   "id": "7e0415fe-5df4-426d-a9bb-eb2730ea0b36",
   "metadata": {
    "executionTime": 1028,
    "lastSuccessfullyExecutedCode": "fig, axes = plt.subplots(1, 3, figsize=(20,7))\n\nax1 = sns.countplot(x=\"age\", data=df, ax=axes[0])\nax2 = sns.countplot(x=\"education\", data=df, ax=axes[1])\nax3 = sns.countplot(x=\"income\", data=df, ax=axes[2])\n\nfor i in axes:\n    i.set_xticklabels(i.get_xticklabels(), rotation=90, fontsize=10)"
   },
   "outputs": [
    {
     "data": {
      "image/png": "[encoded data removed]",
      "text/plain": [
       "<Figure size 2000x700 with 3 Axes>"
      ]
     },
     "metadata": {},
     "output_type": "display_data"
    }
   ],
   "source": [
    "fig, axes = plt.subplots(1, 3, figsize=(20,7))\n",
    "\n",
    "ax1 = sns.countplot(x=\"age\", data=df, ax=axes[0])\n",
    "ax2 = sns.countplot(x=\"education\", data=df, ax=axes[1])\n",
    "ax3 = sns.countplot(x=\"income\", data=df, ax=axes[2])\n",
    "\n",
    "for i in axes:\n",
    "    i.set_xticklabels(i.get_xticklabels(), rotation=90, fontsize=10)"
   ]
  },
  {
   "cell_type": "code",
   "execution_count": 16,
   "id": "6deeb1c2-bc61-4f0f-a309-5fcbea7adbf7",
   "metadata": {
    "executionTime": 1917,
    "lastSuccessfullyExecutedCode": "fig, ax = plt.subplots(2, 1, figsize=(15,12))\n\nax = sns.boxplot(x=\"bmi\",\n            data=df, \n            color=\"blue\",\n            ax=ax[0])\n\nax.set_title('BMI Boxplot', fontdict={'size': 13, 'weight': 'semibold'})\n\nax.set_xlabel('BMI', \n               fontweight ='bold')\n\nax.spines['top'].set_visible(False)\nax.spines['left'].set_visible(False)\nax.spines['right'].set_visible(False)\n\nax1 = sns.histplot(x = \"bmi\",\n                  data=df,\n                  kde=True,\n                  color=\"blue\")\nax1.set_title('BMI Histogram', fontdict={'size': 13, 'weight': 'semibold'})\nax1.set_xlabel('BMI', \n               fontweight ='bold')\nax1.spines['top'].set_visible(False)\nax1.spines['right'].set_visible(False)"
   },
   "outputs": [
    {
     "data": {
      "image/png": "[encoded data removed]",
      "text/plain": [
       "<Figure size 1500x1200 with 2 Axes>"
      ]
     },
     "metadata": {},
     "output_type": "display_data"
    }
   ],
   "source": [
    "fig, ax = plt.subplots(2, 1, figsize=(15,12))\n",
    "\n",
    "ax = sns.boxplot(x=\"bmi\",\n",
    "            data=df, \n",
    "            color=\"blue\",\n",
    "            ax=ax[0])\n",
    "\n",
    "ax.set_title('BMI Boxplot', fontdict={'size': 13, 'weight': 'semibold'})\n",
    "\n",
    "ax.set_xlabel('BMI', \n",
    "               fontweight ='bold')\n",
    "\n",
    "ax.spines['top'].set_visible(False)\n",
    "ax.spines['left'].set_visible(False)\n",
    "ax.spines['right'].set_visible(False)\n",
    "\n",
    "ax1 = sns.histplot(x = \"bmi\",\n",
    "                  data=df,\n",
    "                  kde=True,\n",
    "                  color=\"blue\")\n",
    "ax1.set_title('BMI Histogram', fontdict={'size': 13, 'weight': 'semibold'})\n",
    "ax1.set_xlabel('BMI', \n",
    "               fontweight ='bold')\n",
    "ax1.spines['top'].set_visible(False)\n",
    "ax1.spines['right'].set_visible(False)"
   ]
  },
  {
   "cell_type": "code",
   "execution_count": 4,
   "id": "cb3ff404-c02f-411b-bcbc-458b0f26df11",
   "metadata": {
    "executionTime": 51,
    "lastSuccessfullyExecutedCode": "diabetic_df = df[df.diabetes_binary == 1]\nnondiabetic_df = df[df.diabetes_binary == 0]"
   },
   "outputs": [],
   "source": [
    "diabetic_df = df[df.diabetes_binary == 1]\n",
    "nondiabetic_df = df[df.diabetes_binary == 0]"
   ]
  },
  {
   "cell_type": "code",
   "execution_count": 20,
   "id": "e855d515-9b2c-4b24-b4de-4e090946d1ff",
   "metadata": {
    "executionTime": 1923,
    "lastSuccessfullyExecutedCode": "fig, axes = plt.subplots(1, 3, figsize=(25,7))\n    \nax = sns.histplot(x=\"bmi\", data=diabetic_df, ax=axes[0])\nax1 = sns.histplot(x=\"bmi\", data=df, ax=axes[1])\nax2 = sns.histplot(x=\"bmi\", data=nondiabetic_df, ax=axes[2])             \naxes[0].set_title('BMI of Diabetics')\naxes[1].set_title('BMI of All Participants')\naxes[2].set_title('BMI of Non-Diabetics')"
   },
   "outputs": [
    {
     "data": {
      "text/plain": [
       "Text(0.5, 1.0, 'BMI of Non-Diabetics')"
      ]
     },
     "execution_count": 20,
     "metadata": {},
     "output_type": "execute_result"
    },
    {
     "data": {
      "image/png": "[encoded data removed]",
      "text/plain": [
       "<Figure size 2500x700 with 3 Axes>"
      ]
     },
     "metadata": {},
     "output_type": "display_data"
    }
   ],
   "source": [
    "fig, axes = plt.subplots(1, 3, figsize=(25,7))\n",
    "    \n",
    "ax = sns.histplot(x=\"bmi\", data=diabetic_df, ax=axes[0])\n",
    "ax1 = sns.histplot(x=\"bmi\", data=df, ax=axes[1])\n",
    "ax2 = sns.histplot(x=\"bmi\", data=nondiabetic_df, ax=axes[2])             \n",
    "axes[0].set_title('BMI of Diabetics')\n",
    "axes[1].set_title('BMI of All Participants')\n",
    "axes[2].set_title('BMI of Non-Diabetics')"
   ]
  },
  {
   "cell_type": "code",
   "execution_count": 100,
   "id": "5b33ea1f-c47d-4527-aaf1-6299f3c6034e",
   "metadata": {
    "executionTime": 2034,
    "lastSuccessfullyExecutedCode": "number_columns = df.select_dtypes(include=[int,float]).columns.tolist()\nplt.figure(figsize = [12, 8])\nax = sns.heatmap(df[number_columns].corr(), \n           annot = True)\nax.set_title('Correlations', fontdict={'size': 13, 'weight': 'semibold'})\nplt.xticks(rotation = 90)"
   },
   "outputs": [
    {
     "data": {
      "text/plain": [
       "(array([ 0.5,  1.5,  2.5,  3.5,  4.5,  5.5,  6.5,  7.5,  8.5,  9.5, 10.5,\n",
       "        11.5, 12.5, 13.5, 14.5, 15.5, 16.5, 17.5]),\n",
       " [Text(0.5, 0, 'physhlth'),\n",
       "  Text(1.5, 0, 'smoker'),\n",
       "  Text(2.5, 0, 'heartdiseaseorattack'),\n",
       "  Text(3.5, 0, 'bmi'),\n",
       "  Text(4.5, 0, 'diffwalk'),\n",
       "  Text(5.5, 0, 'genhlth'),\n",
       "  Text(6.5, 0, 'highbp'),\n",
       "  Text(7.5, 0, 'highchol'),\n",
       "  Text(8.5, 0, 'cholcheck'),\n",
       "  Text(9.5, 0, 'menthlth'),\n",
       "  Text(10.5, 0, 'veggies'),\n",
       "  Text(11.5, 0, 'stroke'),\n",
       "  Text(12.5, 0, 'fruits'),\n",
       "  Text(13.5, 0, 'physactivity'),\n",
       "  Text(14.5, 0, 'hvyalcoholconsump'),\n",
       "  Text(15.5, 0, 'nodocbccost'),\n",
       "  Text(16.5, 0, 'anyhealthcare'),\n",
       "  Text(17.5, 0, 'diabetes_binary')])"
      ]
     },
     "execution_count": 100,
     "metadata": {},
     "output_type": "execute_result"
    },
    {
     "data": {
      "image/png": "[encoded data removed]",
      "text/plain": [
       "<Figure size 1200x800 with 2 Axes>"
      ]
     },
     "metadata": {},
     "output_type": "display_data"
    }
   ],
   "source": [
    "number_columns = df.select_dtypes(include=[int,float]).columns.tolist()\n",
    "plt.figure(figsize = [12, 8])\n",
    "ax = sns.heatmap(df[number_columns].corr(), \n",
    "           annot = True)\n",
    "ax.set_title('Correlations', fontdict={'size': 13, 'weight': 'semibold'})\n",
    "plt.xticks(rotation = 90)\n",
    "\n",
    "# Jack suggests playing with this code to make it prettier: \n",
    "# top_mask = np.triu(np.ones_like(data.corr(), dtype=np.bool))\n",
    "# heatmap = sns.heatmap(data.corr(),vmin=-.5, vmax=.5, annot=True, mask=top_mask, cmap='coolwarm', fmt='.2f', square=True)"
   ]
  },
  {
   "cell_type": "markdown",
   "id": "506eb355-67c0-499e-bfd3-0a3f3376b349",
   "metadata": {},
   "source": [
    "Found the following positive correlations: \n",
    "- difficulty walking/climbing stairs with physical injury in the last 30 days\n",
    "- general health with physical injury in the last 30 days\n",
    "- general health with difficulty walking/climbing stairs\n",
    "\n",
    "Found the following negative correlations: \n",
    "- difficulty walking/climbing stairs with physical activity in the last 30 days\n",
    "- general health with physical activity in the last 30 days\n",
    "- physical injury in the last 30 days with physical activity in the last 30 days\n",
    "- lack of healthcare with the need to see a doctor but being unable to due to cost in the last year"
   ]
  },
  {
   "cell_type": "markdown",
   "id": "ca3832b3-ff35-4a3b-bf46-b7253cbcf206",
   "metadata": {},
   "source": [
    "### When it comes specifically to whether or not a particpant is diabetic the following observations can be seen: \n",
    "\n",
    "Positive (medium):\n",
    "- High blood pressure\n",
    "- General Health\n",
    "\n",
    "Positive (weak):\n",
    "- BMI\n",
    "- Difficulty walking/climbing stairs\n",
    "- High Cholesterol\n",
    "\n",
    "Negative (strong):\n",
    "- Physical activity in the past 30 days (not including work)\n",
    "\n",
    "Negative (medium):\n",
    "- Eating fruits at least once per day\n",
    "- Eating vegetables at least once per day\n",
    "- Lack of heavy alcohol cunsumption (defined as 7 drinks/week for women & 14 drinks/week for men)"
   ]
  },
  {
   "cell_type": "markdown",
   "id": "1f2a22a0-038e-4cf1-aca9-ed2bb3b23fd6",
   "metadata": {},
   "source": [
    "# Conclusions\n",
    "\n",
    "- General health and high blood pressure are correlated with a higher likelihood of diabetes and it would stand to reason that taking care of one's health is important overall. \n",
    "\n",
    "# Recommendations\n",
    "\n",
    "- For people interested in decreasing their risk of diabetes I would suggest that they eat fruits and vegetables at least once per day, limit their alcohol cunsumption, and exercise regularly. "
   ]
  },
  {
   "cell_type": "markdown",
   "id": "f4c7ebc2-f204-4738-aeab-25f0967108b3",
   "metadata": {},
   "source": [
    "# Enriching The Data\n",
    "\n",
    "- I would like to be able to better predict diabetes. This could be done by providing us an understanding of whether participants have type 1 or type 2 diabetes. \n",
    "- Location information would allow me to further understand whether people in certain areas are more likely to be diabetic and the reasons why. \n",
    "- Behaviors that might be more/less indicative of diabetes such as dietary preferences and amount/frequency of exercise.\n",
    "- Living situation such as whether the participant lives alone and cooks their own meals or lives with family."
   ]
  },
  {
   "cell_type": "markdown",
   "id": "e7f549b7-4b48-4bdc-8a3a-4dfef4b59d46",
   "metadata": {},
   "source": [
    "**~*~*~*~*~**"
   ]
  }
 ],
 "metadata": {
  "colab": {
   "name": "Welcome to DataCamp Workspaces.ipynb",
   "provenance": []
  },
  "kernelspec": {
   "display_name": "Python 3 (ipykernel)",
   "language": "python",
   "name": "python3"
  },
  "language_info": {
   "codemirror_mode": {
    "name": "ipython",
    "version": 3
   },
   "file_extension": ".py",
   "mimetype": "text/x-python",
   "name": "python",
   "nbconvert_exporter": "python",
   "pygments_lexer": "ipython3",
   "version": "3.10.6"
  }
 },
 "nbformat": 4,
 "nbformat_minor": 5
}

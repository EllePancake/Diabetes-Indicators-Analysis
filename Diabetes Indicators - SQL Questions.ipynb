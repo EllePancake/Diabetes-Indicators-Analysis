{
 "cells": [
  {
   "cell_type": "markdown",
   "id": "88c477bc-ca42-44df-8a56-eb3e1b6d6585",
   "metadata": {},
   "source": [
    "# SQL tasks\n",
    "\n",
    "1. What is the average physical illness in the data?\n",
    "2. Among smoker vs. non-smoker, please calculate the following metrics:\n",
    "    1. the amount of diabetes vs. non diabetes can be found in the data?\n",
    "    2. the avg, min and max physical illness can be found in the data?\n",
    "3. How many (absolute) smokers do we have that are having serious difficulty walking or climbing stairs as well?\n",
    "4. What is the distribution (in %) in diabetes among education categories and men, out of all men smokers?\n",
    "5. Some hospitals had approached you and are asking for some information. Please help them get the following -\n",
    "    1. Please generate a table of each education level, and the top 5 persons (by ID), where the persons are ranked according to their BMI, DESC\n",
    "    2. Let’s create a new metric per each person, called “BMIToMentalActivityRatio” - calculated as: BMI / mental activity.\n",
    "    Note: If one of the “base metrics” is 0, put a 0 to that specific record in our new metric column.\n",
    "    Once we have this column, let’s understand per each income level, who are the top 7 persons with the highest ratio"
   ]
  },
  {
   "cell_type": "markdown",
   "id": "aba5ef73-9efd-4548-a072-404a4d232ef9",
   "metadata": {},
   "source": [
    "### 1. What is the average physical illness in the data?"
   ]
  },
  {
   "cell_type": "code",
   "execution_count": 1,
   "id": "132a501d-8c52-47db-a384-31e4eac14bb6",
   "metadata": {
    "customType": "sql",
    "dataFrameVariableName": "df",
    "executionTime": 1752,
    "initial": false,
    "integrationId": "0b11a012-9d5a-4f92-9cf2-2cc983715924",
    "lastSuccessfullyExecutedCode": "-- Start writing your SQL query here \n\nSELECT avg(PhysHlth) as avg\nFROM enriched_data\nWHERE PhysHlth > 0;"
   },
   "outputs": [
    {
     "data": {
      "application/com.datacamp.data-table.v1+json": {
       "table": {
        "data": [
         {
          "avg": 11.4936877857,
          "index": 0
         }
        ],
        "schema": {
         "fields": [
          {
           "name": "index",
           "type": "integer"
          },
          {
           "name": "avg",
           "type": "number"
          }
         ],
         "pandas_version": "1.4.0",
         "primaryKey": [
          "index"
         ]
        }
       },
       "total_rows": 1,
       "truncation_type": null
      },
      "text/html": [
       "<div>\n",
       "<style scoped>\n",
       "    .dataframe tbody tr th:only-of-type {\n",
       "        vertical-align: middle;\n",
       "    }\n",
       "\n",
       "    .dataframe tbody tr th {\n",
       "        vertical-align: top;\n",
       "    }\n",
       "\n",
       "    .dataframe thead th {\n",
       "        text-align: right;\n",
       "    }\n",
       "</style>\n",
       "<table border=\"1\" class=\"dataframe\">\n",
       "  <thead>\n",
       "    <tr style=\"text-align: right;\">\n",
       "      <th></th>\n",
       "      <th>avg</th>\n",
       "    </tr>\n",
       "  </thead>\n",
       "  <tbody>\n",
       "    <tr>\n",
       "      <th>0</th>\n",
       "      <td>11.493688</td>\n",
       "    </tr>\n",
       "  </tbody>\n",
       "</table>\n",
       "</div>"
      ],
      "text/plain": [
       "         avg\n",
       "0  11.493688"
      ]
     },
     "execution_count": 1,
     "metadata": {},
     "output_type": "execute_result"
    }
   ],
   "source": [
    "-- Start writing your SQL query here \n",
    "\n",
    "SELECT avg(PhysHlth) as avg\n",
    "FROM enriched_data\n",
    "WHERE PhysHlth > 0;"
   ]
  },
  {
   "cell_type": "markdown",
   "id": "634b26c1-9708-4213-9427-673d8a86ead2",
   "metadata": {},
   "source": [
    "### 2. Among smoker vs. non-smoker, please calculate the following metrics:\n",
    "    1. the amount of diabetes vs. non diabetes can be found in the data?\n",
    "    2. the avg, min and max physical illness can be found in the data?"
   ]
  },
  {
   "cell_type": "code",
   "execution_count": 7,
   "id": "213dc296-6a9c-4750-9459-5262bebbf676",
   "metadata": {
    "customType": "sql",
    "dataFrameVariableName": "df",
    "executionTime": 1693,
    "initial": false,
    "integrationId": "0b11a012-9d5a-4f92-9cf2-2cc983715924",
    "lastSuccessfullyExecutedCode": "-- the amount of diabetes vs. non diabetes can be found in the data?\nSELECT SUM(CASE WHEN Diabetes_binary = 1 THEN 1 ELSE 0 END) AS Diabetic,\nSUM(CASE WHEN Diabetes_binary = 0 THEN 1 ELSE 0 END) AS Non_Diabetic\nFROM id_label;"
   },
   "outputs": [
    {
     "data": {
      "application/com.datacamp.data-table.v1+json": {
       "table": {
        "data": [
         {
          "diabetic": 35346,
          "index": 0,
          "non_diabetic": 218334
         }
        ],
        "schema": {
         "fields": [
          {
           "name": "index",
           "type": "integer"
          },
          {
           "name": "diabetic",
           "type": "integer"
          },
          {
           "name": "non_diabetic",
           "type": "integer"
          }
         ],
         "pandas_version": "1.4.0",
         "primaryKey": [
          "index"
         ]
        }
       },
       "total_rows": 1,
       "truncation_type": null
      },
      "text/html": [
       "<div>\n",
       "<style scoped>\n",
       "    .dataframe tbody tr th:only-of-type {\n",
       "        vertical-align: middle;\n",
       "    }\n",
       "\n",
       "    .dataframe tbody tr th {\n",
       "        vertical-align: top;\n",
       "    }\n",
       "\n",
       "    .dataframe thead th {\n",
       "        text-align: right;\n",
       "    }\n",
       "</style>\n",
       "<table border=\"1\" class=\"dataframe\">\n",
       "  <thead>\n",
       "    <tr style=\"text-align: right;\">\n",
       "      <th></th>\n",
       "      <th>diabetic</th>\n",
       "      <th>non_diabetic</th>\n",
       "    </tr>\n",
       "  </thead>\n",
       "  <tbody>\n",
       "    <tr>\n",
       "      <th>0</th>\n",
       "      <td>35346</td>\n",
       "      <td>218334</td>\n",
       "    </tr>\n",
       "  </tbody>\n",
       "</table>\n",
       "</div>"
      ],
      "text/plain": [
       "   diabetic  non_diabetic\n",
       "0     35346        218334"
      ]
     },
     "execution_count": 7,
     "metadata": {},
     "output_type": "execute_result"
    }
   ],
   "source": [
    "-- the amount of diabetes vs. non diabetes can be found in the data?\n",
    "SELECT SUM(CASE WHEN Diabetes_binary = 1 THEN 1 ELSE 0 END) AS Diabetic,\n",
    "SUM(CASE WHEN Diabetes_binary = 0 THEN 1 ELSE 0 END) AS Non_Diabetic\n",
    "FROM id_label;"
   ]
  },
  {
   "cell_type": "code",
   "execution_count": 2,
   "id": "392b8fd8-db3b-4464-ab79-db24dd034246",
   "metadata": {
    "customType": "sql",
    "dataFrameVariableName": "df",
    "executionTime": 1682,
    "initial": false,
    "integrationId": "0b11a012-9d5a-4f92-9cf2-2cc983715924",
    "lastSuccessfullyExecutedCode": "-- the avg, min and max physical illness can be found in the data?\nSELECT AVG(PhysHlth) AS avg, MIN(PhysHlth) AS min, MAX(PhysHlth) AS max\nFROM enriched_data;"
   },
   "outputs": [
    {
     "data": {
      "application/com.datacamp.data-table.v1+json": {
       "table": {
        "data": [
         {
          "avg": 4.242080574,
          "index": 0,
          "max": 30,
          "min": 0
         }
        ],
        "schema": {
         "fields": [
          {
           "name": "index",
           "type": "integer"
          },
          {
           "name": "avg",
           "type": "number"
          },
          {
           "name": "min",
           "type": "integer"
          },
          {
           "name": "max",
           "type": "integer"
          }
         ],
         "pandas_version": "1.4.0",
         "primaryKey": [
          "index"
         ]
        }
       },
       "total_rows": 1,
       "truncation_type": null
      },
      "text/html": [
       "<div>\n",
       "<style scoped>\n",
       "    .dataframe tbody tr th:only-of-type {\n",
       "        vertical-align: middle;\n",
       "    }\n",
       "\n",
       "    .dataframe tbody tr th {\n",
       "        vertical-align: top;\n",
       "    }\n",
       "\n",
       "    .dataframe thead th {\n",
       "        text-align: right;\n",
       "    }\n",
       "</style>\n",
       "<table border=\"1\" class=\"dataframe\">\n",
       "  <thead>\n",
       "    <tr style=\"text-align: right;\">\n",
       "      <th></th>\n",
       "      <th>avg</th>\n",
       "      <th>min</th>\n",
       "      <th>max</th>\n",
       "    </tr>\n",
       "  </thead>\n",
       "  <tbody>\n",
       "    <tr>\n",
       "      <th>0</th>\n",
       "      <td>4.242081</td>\n",
       "      <td>0</td>\n",
       "      <td>30</td>\n",
       "    </tr>\n",
       "  </tbody>\n",
       "</table>\n",
       "</div>"
      ],
      "text/plain": [
       "        avg  min  max\n",
       "0  4.242081    0   30"
      ]
     },
     "execution_count": 2,
     "metadata": {},
     "output_type": "execute_result"
    }
   ],
   "source": [
    "-- the avg, min and max physical illness can be found in the data?\n",
    "SELECT AVG(PhysHlth) AS avg, MIN(PhysHlth) AS min, MAX(PhysHlth) AS max\n",
    "FROM enriched_data;"
   ]
  },
  {
   "cell_type": "markdown",
   "id": "4c0de514-ad9b-4873-846c-5a1ac8ac808d",
   "metadata": {},
   "source": [
    "### 3. How many (absolute) smokers do we have that are having serious difficulty walking or climbing stairs as well?"
   ]
  },
  {
   "cell_type": "code",
   "execution_count": 8,
   "id": "31c366d4-f949-4758-bf3d-a5dd34891265",
   "metadata": {
    "customType": "sql",
    "dataFrameVariableName": "df",
    "executionTime": 1921,
    "initial": false,
    "integrationId": "0b11a012-9d5a-4f92-9cf2-2cc983715924",
    "lastSuccessfullyExecutedCode": "SELECT COUNT(DISTINCT e.uniqueID)\nFROM enriched_data e \nJOIN health_measures h\nON e.uniqueID = h.uniqueID\nWHERE e.Smoker = 1 AND h.DiffWalk = 1;"
   },
   "outputs": [
    {
     "data": {
      "application/com.datacamp.data-table.v1+json": {
       "table": {
        "data": [
         {
          "count": 24685,
          "index": 0
         }
        ],
        "schema": {
         "fields": [
          {
           "name": "index",
           "type": "integer"
          },
          {
           "name": "count",
           "type": "integer"
          }
         ],
         "pandas_version": "1.4.0",
         "primaryKey": [
          "index"
         ]
        }
       },
       "total_rows": 1,
       "truncation_type": null
      },
      "text/html": [
       "<div>\n",
       "<style scoped>\n",
       "    .dataframe tbody tr th:only-of-type {\n",
       "        vertical-align: middle;\n",
       "    }\n",
       "\n",
       "    .dataframe tbody tr th {\n",
       "        vertical-align: top;\n",
       "    }\n",
       "\n",
       "    .dataframe thead th {\n",
       "        text-align: right;\n",
       "    }\n",
       "</style>\n",
       "<table border=\"1\" class=\"dataframe\">\n",
       "  <thead>\n",
       "    <tr style=\"text-align: right;\">\n",
       "      <th></th>\n",
       "      <th>count</th>\n",
       "    </tr>\n",
       "  </thead>\n",
       "  <tbody>\n",
       "    <tr>\n",
       "      <th>0</th>\n",
       "      <td>24685</td>\n",
       "    </tr>\n",
       "  </tbody>\n",
       "</table>\n",
       "</div>"
      ],
      "text/plain": [
       "   count\n",
       "0  24685"
      ]
     },
     "execution_count": 8,
     "metadata": {},
     "output_type": "execute_result"
    }
   ],
   "source": [
    "SELECT COUNT(DISTINCT e.uniqueID)\n",
    "FROM enriched_data e \n",
    "JOIN health_measures h\n",
    "ON e.uniqueID = h.uniqueID\n",
    "WHERE e.Smoker = 1 AND h.DiffWalk = 1;"
   ]
  },
  {
   "cell_type": "markdown",
   "id": "cf62482e-c1e8-43b2-a578-7e3d969892e6",
   "metadata": {},
   "source": [
    "### 4. What is the distribution (in %) in diabetes among education categories and men, out of all men smokers?"
   ]
  },
  {
   "cell_type": "code",
   "execution_count": 23,
   "id": "ba3d6a8c-2b0d-4c92-b1df-2319e97af102",
   "metadata": {
    "customType": "sql",
    "dataFrameVariableName": "df",
    "executionTime": 2271,
    "initial": false,
    "integrationId": "0b11a012-9d5a-4f92-9cf2-2cc983715924",
    "lastSuccessfullyExecutedCode": "WITH t1 as (\nSELECT education as education, COUNT(diabetes_binary) + 0.0 as ttl_diabetic\nFROM demographic_data d\nJOIN id_label i\nON d.uniqueid = i.uniqueid\nJOIN health_measures h\nON i.uniqueid = h.uniqueid\nJOIN enriched_data e\nON h.uniqueid = e.uniqueid\nWHERE diabetes_binary = 1\nGROUP BY 1\n),\nt2 as (\nSELECT COUNT(\nCASE WHEN diabetes_binary = 0\nTHEN 1 ELSE 0 END) as ttl_non_diabetic\nFROM id_label\n),   \nt3 as (\nSELECT SUM(smoker) + 0.0 as ttl_smoker\nFROM demographic_data d\nJOIN id_label i\nON d.uniqueid = i.uniqueid\nJOIN health_measures h\nON i.uniqueid = h.uniqueid\nJOIN enriched_data e\nON h.uniqueid = e.uniqueid\nWHERE e.smoker = 1\nAND d.sex = 1\n)\n    \nSELECT t1.education, (t1.ttl_diabetic / t3.ttl_smoker) as perc\nfrom t1, t3"
   },
   "outputs": [
    {
     "data": {
      "application/com.datacamp.data-table.v1+json": {
       "table": {
        "data": [
         {
          "education": 1,
          "index": 0,
          "perc": 0.0008489271
         },
         {
          "education": 2,
          "index": 1,
          "perc": 0.0213676757
         },
         {
          "education": 3,
          "index": 2,
          "perc": 0.041470992
         },
         {
          "education": 4,
          "index": 3,
          "perc": 0.1998771765
         },
         {
          "education": 5,
          "index": 4,
          "perc": 0.187016834
         },
         {
          "education": 6,
          "index": 5,
          "perc": 0.1878476989
         }
        ],
        "schema": {
         "fields": [
          {
           "name": "index",
           "type": "integer"
          },
          {
           "name": "education",
           "type": "integer"
          },
          {
           "name": "perc",
           "type": "number"
          }
         ],
         "pandas_version": "1.4.0",
         "primaryKey": [
          "index"
         ]
        }
       },
       "total_rows": 6,
       "truncation_type": null
      },
      "text/html": [
       "<div>\n",
       "<style scoped>\n",
       "    .dataframe tbody tr th:only-of-type {\n",
       "        vertical-align: middle;\n",
       "    }\n",
       "\n",
       "    .dataframe tbody tr th {\n",
       "        vertical-align: top;\n",
       "    }\n",
       "\n",
       "    .dataframe thead th {\n",
       "        text-align: right;\n",
       "    }\n",
       "</style>\n",
       "<table border=\"1\" class=\"dataframe\">\n",
       "  <thead>\n",
       "    <tr style=\"text-align: right;\">\n",
       "      <th></th>\n",
       "      <th>education</th>\n",
       "      <th>perc</th>\n",
       "    </tr>\n",
       "  </thead>\n",
       "  <tbody>\n",
       "    <tr>\n",
       "      <th>0</th>\n",
       "      <td>1</td>\n",
       "      <td>0.000849</td>\n",
       "    </tr>\n",
       "    <tr>\n",
       "      <th>1</th>\n",
       "      <td>2</td>\n",
       "      <td>0.021368</td>\n",
       "    </tr>\n",
       "    <tr>\n",
       "      <th>2</th>\n",
       "      <td>3</td>\n",
       "      <td>0.041471</td>\n",
       "    </tr>\n",
       "    <tr>\n",
       "      <th>3</th>\n",
       "      <td>4</td>\n",
       "      <td>0.199877</td>\n",
       "    </tr>\n",
       "    <tr>\n",
       "      <th>4</th>\n",
       "      <td>5</td>\n",
       "      <td>0.187017</td>\n",
       "    </tr>\n",
       "    <tr>\n",
       "      <th>5</th>\n",
       "      <td>6</td>\n",
       "      <td>0.187848</td>\n",
       "    </tr>\n",
       "  </tbody>\n",
       "</table>\n",
       "</div>"
      ],
      "text/plain": [
       "   education      perc\n",
       "0          1  0.000849\n",
       "1          2  0.021368\n",
       "2          3  0.041471\n",
       "3          4  0.199877\n",
       "4          5  0.187017\n",
       "5          6  0.187848"
      ]
     },
     "execution_count": 23,
     "metadata": {},
     "output_type": "execute_result"
    }
   ],
   "source": [
    "WITH t1 as (\n",
    "SELECT education as education, COUNT(diabetes_binary) + 0.0 as ttl_diabetic\n",
    "FROM demographic_data d\n",
    "JOIN id_label i\n",
    "ON d.uniqueid = i.uniqueid\n",
    "JOIN health_measures h\n",
    "ON i.uniqueid = h.uniqueid\n",
    "JOIN enriched_data e\n",
    "ON h.uniqueid = e.uniqueid\n",
    "WHERE diabetes_binary = 1\n",
    "GROUP BY 1\n",
    "),\n",
    "t2 as (\n",
    "SELECT COUNT(\n",
    "CASE WHEN diabetes_binary = 0\n",
    "THEN 1 ELSE 0 END) as ttl_non_diabetic\n",
    "FROM id_label\n",
    "),   \n",
    "t3 as (\n",
    "SELECT SUM(smoker) + 0.0 as ttl_smoker\n",
    "FROM demographic_data d\n",
    "JOIN id_label i\n",
    "ON d.uniqueid = i.uniqueid\n",
    "JOIN health_measures h\n",
    "ON i.uniqueid = h.uniqueid\n",
    "JOIN enriched_data e\n",
    "ON h.uniqueid = e.uniqueid\n",
    "WHERE e.smoker = 1\n",
    "AND d.sex = 1\n",
    ")\n",
    "    \n",
    "SELECT t1.education, (t1.ttl_diabetic / t3.ttl_smoker) as perc\n",
    "from t1, t3"
   ]
  },
  {
   "cell_type": "markdown",
   "id": "96899f39-76f3-4e16-96c7-fb2caf508397",
   "metadata": {},
   "source": [
    "### 5. Some hospitals had approached you and are asking for some information. Please help them get the following -\n",
    "    1. Please generate a table of each education level, and the top 5 persons (by ID), where the persons are ranked according to their BMI, DESC\n",
    "    2. Let’s create a new metric per each person, called “BMIToMentalActivityRatio” - calculated as: BMI / mental activity."
   ]
  },
  {
   "cell_type": "code",
   "execution_count": 22,
   "id": "f9045759-baa5-4fcf-a307-0140b4630f3f",
   "metadata": {
    "customType": "sql",
    "dataFrameVariableName": "df",
    "executionTime": 2083,
    "initial": false,
    "integrationId": "0b11a012-9d5a-4f92-9cf2-2cc983715924",
    "lastSuccessfullyExecutedCode": "-- Please generate a table of each education level, and the top 5 persons (by ID), where the persons are ranked according to their BMI, DESC\nWITH t1 AS (\nSELECT d.uniqueid as uniqueid, d.education as education, bmi, \nROW_NUMBER() OVER (PARTITION BY education ORDER BY bmi DESC) as rank\nFROM demographic_data d\nJOIN id_label i\nON d.uniqueid = i.uniqueid\nJOIN health_measures h\nON i.uniqueid = h.uniqueid\nJOIN enriched_data e\nON h.uniqueid = e.uniqueid\n)\nSELECT uniqueid, education, bmi\nFROM t1\nWHERE rank = 1\nORDER BY 3 DESC"
   },
   "outputs": [
    {
     "data": {
      "application/com.datacamp.data-table.v1+json": {
       "table": {
        "data": [
         {
          "bmi": 98,
          "education": 4,
          "index": 0,
          "uniqueid": 79478
         },
         {
          "bmi": 98,
          "education": 5,
          "index": 1,
          "uniqueid": 76396
         },
         {
          "bmi": 98,
          "education": 6,
          "index": 2,
          "uniqueid": 76394
         },
         {
          "bmi": 95,
          "education": 3,
          "index": 3,
          "uniqueid": 79522
         },
         {
          "bmi": 84,
          "education": 2,
          "index": 4,
          "uniqueid": 79543
         },
         {
          "bmi": 57,
          "education": 1,
          "index": 5,
          "uniqueid": 100832
         }
        ],
        "schema": {
         "fields": [
          {
           "name": "index",
           "type": "integer"
          },
          {
           "name": "uniqueid",
           "type": "integer"
          },
          {
           "name": "education",
           "type": "integer"
          },
          {
           "name": "bmi",
           "type": "integer"
          }
         ],
         "pandas_version": "1.4.0",
         "primaryKey": [
          "index"
         ]
        }
       },
       "total_rows": 6,
       "truncation_type": null
      },
      "text/html": [
       "<div>\n",
       "<style scoped>\n",
       "    .dataframe tbody tr th:only-of-type {\n",
       "        vertical-align: middle;\n",
       "    }\n",
       "\n",
       "    .dataframe tbody tr th {\n",
       "        vertical-align: top;\n",
       "    }\n",
       "\n",
       "    .dataframe thead th {\n",
       "        text-align: right;\n",
       "    }\n",
       "</style>\n",
       "<table border=\"1\" class=\"dataframe\">\n",
       "  <thead>\n",
       "    <tr style=\"text-align: right;\">\n",
       "      <th></th>\n",
       "      <th>uniqueid</th>\n",
       "      <th>education</th>\n",
       "      <th>bmi</th>\n",
       "    </tr>\n",
       "  </thead>\n",
       "  <tbody>\n",
       "    <tr>\n",
       "      <th>0</th>\n",
       "      <td>79478</td>\n",
       "      <td>4</td>\n",
       "      <td>98</td>\n",
       "    </tr>\n",
       "    <tr>\n",
       "      <th>1</th>\n",
       "      <td>76396</td>\n",
       "      <td>5</td>\n",
       "      <td>98</td>\n",
       "    </tr>\n",
       "    <tr>\n",
       "      <th>2</th>\n",
       "      <td>76394</td>\n",
       "      <td>6</td>\n",
       "      <td>98</td>\n",
       "    </tr>\n",
       "    <tr>\n",
       "      <th>3</th>\n",
       "      <td>79522</td>\n",
       "      <td>3</td>\n",
       "      <td>95</td>\n",
       "    </tr>\n",
       "    <tr>\n",
       "      <th>4</th>\n",
       "      <td>79543</td>\n",
       "      <td>2</td>\n",
       "      <td>84</td>\n",
       "    </tr>\n",
       "    <tr>\n",
       "      <th>5</th>\n",
       "      <td>100832</td>\n",
       "      <td>1</td>\n",
       "      <td>57</td>\n",
       "    </tr>\n",
       "  </tbody>\n",
       "</table>\n",
       "</div>"
      ],
      "text/plain": [
       "   uniqueid  education  bmi\n",
       "0     79478          4   98\n",
       "1     76396          5   98\n",
       "2     76394          6   98\n",
       "3     79522          3   95\n",
       "4     79543          2   84\n",
       "5    100832          1   57"
      ]
     },
     "execution_count": 22,
     "metadata": {},
     "output_type": "execute_result"
    }
   ],
   "source": [
    "-- Please generate a table of each education level, and the top 5 persons (by ID), where the persons are ranked according to their BMI, DESC\n",
    "WITH t1 AS (\n",
    "SELECT d.uniqueid as uniqueid, d.education as education, bmi, \n",
    "ROW_NUMBER() OVER (PARTITION BY education ORDER BY bmi DESC) as rank\n",
    "FROM demographic_data d\n",
    "JOIN id_label i\n",
    "ON d.uniqueid = i.uniqueid\n",
    "JOIN health_measures h\n",
    "ON i.uniqueid = h.uniqueid\n",
    "JOIN enriched_data e\n",
    "ON h.uniqueid = e.uniqueid\n",
    ")\n",
    "SELECT uniqueid, education, bmi\n",
    "FROM t1\n",
    "WHERE rank = 1\n",
    "ORDER BY 3 DESC"
   ]
  },
  {
   "cell_type": "code",
   "execution_count": 24,
   "id": "596834bd-cb72-4c04-9bec-1e6ec660a837",
   "metadata": {
    "customType": "sql",
    "dataFrameVariableName": "df",
    "executionTime": 2178,
    "initial": false,
    "integrationId": "0b11a012-9d5a-4f92-9cf2-2cc983715924",
    "lastSuccessfullyExecutedCode": "-- Let’s create a new metric per each person, called “BMIToMentalActivityRatio” - calculated as: BMI / mental activity.\n\nWITH t1 AS (\nSELECT d.uniqueid as uniqueid, income, (h.bmi/h.menthlth) AS BMIToMentalActivityRatio\nFROM demographic_data d\nJOIN id_label i\nON d.uniqueid = i.uniqueid\nJOIN health_measures h\nON i.uniqueid = h.uniqueid\nJOIN enriched_data e\nON h.uniqueid = e.uniqueid\nWHERE h.menthlth != 0\nORDER BY 3 DESC\n)\nSELECT DISTINCT income, uniqueid, BMIToMentalActivityRatio\nFROM (\n    SELECT income, uniqueid, BMIToMentalActivityRatio, \n    row_number() OVER (PARTITION BY income ORDER BY BMIToMentalActivityRatio DESC) AS ranks\n    FROM t1\n    GROUP BY 1, 2, 3\n) ranked\nWHERE ranks = 1\nGROUP BY 1, 2, 3\nORDER BY 1, 3 DESC;"
   },
   "outputs": [
    {
     "data": {
      "application/com.datacamp.data-table.v1+json": {
       "table": {
        "data": [
         {
          "bmitomentalactivityratio": 44,
          "income": 1,
          "index": 0,
          "uniqueid": 213505
         },
         {
          "bmitomentalactivityratio": 56,
          "income": 2,
          "index": 1,
          "uniqueid": 58641
         },
         {
          "bmitomentalactivityratio": 79,
          "income": 3,
          "index": 2,
          "uniqueid": 79327
         },
         {
          "bmitomentalactivityratio": 73,
          "income": 4,
          "index": 3,
          "uniqueid": 79453
         },
         {
          "bmitomentalactivityratio": 79,
          "income": 5,
          "index": 4,
          "uniqueid": 76369
         },
         {
          "bmitomentalactivityratio": 92,
          "income": 6,
          "index": 5,
          "uniqueid": 79386
         },
         {
          "bmitomentalactivityratio": 89,
          "income": 7,
          "index": 6,
          "uniqueid": 79340
         },
         {
          "bmitomentalactivityratio": 87,
          "income": 8,
          "index": 7,
          "uniqueid": 79516
         }
        ],
        "schema": {
         "fields": [
          {
           "name": "index",
           "type": "integer"
          },
          {
           "name": "income",
           "type": "integer"
          },
          {
           "name": "uniqueid",
           "type": "integer"
          },
          {
           "name": "bmitomentalactivityratio",
           "type": "integer"
          }
         ],
         "pandas_version": "1.4.0",
         "primaryKey": [
          "index"
         ]
        }
       },
       "total_rows": 8,
       "truncation_type": null
      },
      "text/html": [
       "<div>\n",
       "<style scoped>\n",
       "    .dataframe tbody tr th:only-of-type {\n",
       "        vertical-align: middle;\n",
       "    }\n",
       "\n",
       "    .dataframe tbody tr th {\n",
       "        vertical-align: top;\n",
       "    }\n",
       "\n",
       "    .dataframe thead th {\n",
       "        text-align: right;\n",
       "    }\n",
       "</style>\n",
       "<table border=\"1\" class=\"dataframe\">\n",
       "  <thead>\n",
       "    <tr style=\"text-align: right;\">\n",
       "      <th></th>\n",
       "      <th>income</th>\n",
       "      <th>uniqueid</th>\n",
       "      <th>bmitomentalactivityratio</th>\n",
       "    </tr>\n",
       "  </thead>\n",
       "  <tbody>\n",
       "    <tr>\n",
       "      <th>0</th>\n",
       "      <td>1</td>\n",
       "      <td>213505</td>\n",
       "      <td>44</td>\n",
       "    </tr>\n",
       "    <tr>\n",
       "      <th>1</th>\n",
       "      <td>2</td>\n",
       "      <td>58641</td>\n",
       "      <td>56</td>\n",
       "    </tr>\n",
       "    <tr>\n",
       "      <th>2</th>\n",
       "      <td>3</td>\n",
       "      <td>79327</td>\n",
       "      <td>79</td>\n",
       "    </tr>\n",
       "    <tr>\n",
       "      <th>3</th>\n",
       "      <td>4</td>\n",
       "      <td>79453</td>\n",
       "      <td>73</td>\n",
       "    </tr>\n",
       "    <tr>\n",
       "      <th>4</th>\n",
       "      <td>5</td>\n",
       "      <td>76369</td>\n",
       "      <td>79</td>\n",
       "    </tr>\n",
       "    <tr>\n",
       "      <th>5</th>\n",
       "      <td>6</td>\n",
       "      <td>79386</td>\n",
       "      <td>92</td>\n",
       "    </tr>\n",
       "    <tr>\n",
       "      <th>6</th>\n",
       "      <td>7</td>\n",
       "      <td>79340</td>\n",
       "      <td>89</td>\n",
       "    </tr>\n",
       "    <tr>\n",
       "      <th>7</th>\n",
       "      <td>8</td>\n",
       "      <td>79516</td>\n",
       "      <td>87</td>\n",
       "    </tr>\n",
       "  </tbody>\n",
       "</table>\n",
       "</div>"
      ],
      "text/plain": [
       "   income  uniqueid  bmitomentalactivityratio\n",
       "0       1    213505                        44\n",
       "1       2     58641                        56\n",
       "2       3     79327                        79\n",
       "3       4     79453                        73\n",
       "4       5     76369                        79\n",
       "5       6     79386                        92\n",
       "6       7     79340                        89\n",
       "7       8     79516                        87"
      ]
     },
     "execution_count": 24,
     "metadata": {},
     "output_type": "execute_result"
    }
   ],
   "source": [
    "-- Let’s create a new metric per each person, called “BMIToMentalActivityRatio” - calculated as: BMI / mental activity.\n",
    "\n",
    "WITH t1 AS (\n",
    "SELECT d.uniqueid as uniqueid, income, (h.bmi/h.menthlth) AS BMIToMentalActivityRatio\n",
    "FROM demographic_data d\n",
    "JOIN id_label i\n",
    "ON d.uniqueid = i.uniqueid\n",
    "JOIN health_measures h\n",
    "ON i.uniqueid = h.uniqueid\n",
    "JOIN enriched_data e\n",
    "ON h.uniqueid = e.uniqueid\n",
    "WHERE h.menthlth != 0\n",
    "ORDER BY 3 DESC\n",
    ")\n",
    "SELECT DISTINCT income, uniqueid, BMIToMentalActivityRatio\n",
    "FROM (\n",
    "    SELECT income, uniqueid, BMIToMentalActivityRatio, \n",
    "    row_number() OVER (PARTITION BY income ORDER BY BMIToMentalActivityRatio DESC) AS ranks\n",
    "    FROM t1\n",
    "    GROUP BY 1, 2, 3\n",
    ") ranked\n",
    "WHERE ranks = 1\n",
    "GROUP BY 1, 2, 3\n",
    "ORDER BY 1, 3 DESC;"
   ]
  }
 ],
 "metadata": {
  "colab": {
   "name": "Welcome to DataCamp Workspaces.ipynb",
   "provenance": []
  },
  "kernelspec": {
   "display_name": "Python 3 (ipykernel)",
   "language": "python",
   "name": "python3"
  },
  "language_info": {
   "codemirror_mode": {
    "name": "ipython",
    "version": 3
   },
   "file_extension": ".py",
   "mimetype": "text/x-python",
   "name": "python",
   "nbconvert_exporter": "python",
   "pygments_lexer": "ipython3",
   "version": "3.10.6"
  }
 },
 "nbformat": 4,
 "nbformat_minor": 5
}
